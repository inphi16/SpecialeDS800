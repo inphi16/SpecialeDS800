{
 "cells": [
  {
   "cell_type": "code",
   "execution_count": 0,
   "metadata": {
    "application/vnd.databricks.v1+cell": {
     "cellMetadata": {},
     "inputWidgets": {},
     "nuid": "379b241b-f4bc-49ae-b4f2-c0777e6fd382",
     "showTitle": false,
     "title": ""
    }
   },
   "outputs": [
    {
     "output_type": "display_data",
     "data": {
      "application/vnd.livy.statement-meta+json": {
       "execution_finish_time": "2024-03-19T18:33:21.1300257Z",
       "execution_start_time": "2024-03-19T18:32:49.3889812Z",
       "livy_statement_state": "available",
       "parent_msg_id": "210bc372-86c8-4d7c-987a-0761a9d26ddd",
       "queued_time": "2024-03-19T18:29:36.3912568Z",
       "session_id": "f5af308f-1c3d-48b7-b37e-6b100cb697b1",
       "session_start_time": null,
       "spark_pool": null,
       "state": "finished",
       "statement_id": 8
      },
      "text/plain": [
       "StatementMeta(, f5af308f-1c3d-48b7-b37e-6b100cb697b1, 8, Finished, Available)"
      ]
     },
     "metadata": {},
     "output_type": "display_data"
    },
    {
     "output_type": "stream",
     "name": "stdout",
     "output_type": "stream",
     "text": [
      "Collecting ydata-synthetic\n  Downloading ydata_synthetic-1.3.2-py2.py3-none-any.whl (86 kB)\n\u001B[2K     \u001B[90m━━━━━━━━━━━━━━━━━━━━━━━━━━━━━━━━━━━━━━━━\u001B[0m \u001B[32m86.3/86.3 kB\u001B[0m \u001B[31m4.8 MB/s\u001B[0m eta \u001B[36m0:00:00\u001B[0m\n\u001B[?25hCollecting requests<2.31,>=2.30 (from ydata-synthetic)\n  Downloading requests-2.30.0-py3-none-any.whl (62 kB)\n\u001B[2K     \u001B[90m━━━━━━━━━━━━━━━━━━━━━━━━━━━━━━━━━━━━━━━━\u001B[0m \u001B[32m62.5/62.5 kB\u001B[0m \u001B[31m30.9 MB/s\u001B[0m eta \u001B[36m0:00:00\u001B[0m\n\u001B[?25hRequirement already satisfied: pandas==2.0.* in /home/trusted-service-user/cluster-env/trident_env/lib/python3.10/site-packages (from ydata-synthetic) (2.0.3)\nCollecting numpy==1.23.* (from ydata-synthetic)\n  Downloading numpy-1.23.5-cp310-cp310-manylinux_2_17_x86_64.manylinux2014_x86_64.whl (17.1 MB)\n\u001B[2K     \u001B[90m━━━━━━━━━━━━━━━━━━━━━━━━━━━━━━━━━━━━━━━━\u001B[0m \u001B[32m17.1/17.1 MB\u001B[0m \u001B[31m70.7 MB/s\u001B[0m eta \u001B[36m0:00:00\u001B[0m00:01\u001B[0m00:01\u001B[0m\n\u001B[?25hRequirement already satisfied: scikit-learn==1.3.* in /home/trusted-service-user/cluster-env/trident_env/lib/python3.10/site-packages (from ydata-synthetic) (1.3.0)\nRequirement already satisfied: matplotlib==3.7.* in /home/trusted-service-user/cluster-env/trident_env/lib/python3.10/site-packages (from ydata-synthetic) (3.7.2)\nCollecting tensorflow==2.12.0 (from ydata-synthetic)\n  Downloading tensorflow-2.12.0-cp310-cp310-manylinux_2_17_x86_64.manylinux2014_x86_64.whl (585.9 MB)\n\u001B[2K     \u001B[90m━━━━━━━━━━━━━━━━━━━━━━━━━━━━━━━━━━━━━━━\u001B[0m \u001B[32m585.9/585.9 MB\u001B[0m \u001B[31m8.7 MB/s\u001B[0m eta \u001B[36m0:00:00\u001B[0m00:01\u001B[0m00:01\u001B[0m\n\u001B[?25hCollecting tensorflow-probability==0.19.0 (from ydata-synthetic)\n  Downloading tensorflow_probability-0.19.0-py2.py3-none-any.whl (6.7 MB)\n\u001B[2K     \u001B[90m━━━━━━━━━━━━━━━━━━━━━━━━━━━━━━━━━━━━━━━━\u001B[0m \u001B[32m6.7/6.7 MB\u001B[0m \u001B[31m55.1 MB/s\u001B[0m eta \u001B[36m0:00:00\u001B[0m00:01\u001B[0m:00:01\u001B[0m\n\u001B[?25hCollecting easydict==1.10 (from ydata-synthetic)\n  Downloading easydict-1.10.tar.gz (6.4 kB)\n  Preparing metadata (setup.py) ... \u001B[?25l-\b \b\\\b \bdone\n\u001B[?25hCollecting pmlb==1.0.* (from ydata-synthetic)\n  Downloading pmlb-1.0.1.post3-py3-none-any.whl (19 kB)\nRequirement already satisfied: tqdm<5.0 in /home/trusted-service-user/cluster-env/trident_env/lib/python3.10/site-packages (from ydata-synthetic) (4.66.1)\nCollecting typeguard==4.0.* (from ydata-synthetic)\n  Downloading typeguard-4.0.1-py3-none-any.whl (33 kB)\nCollecting pytest==7.4.* (from ydata-synthetic)\n  Downloading pytest-7.4.4-py3-none-any.whl (325 kB)\n\u001B[2K     \u001B[90m━━━━━━━━━━━━━━━━━━━━━━━━━━━━━━━━━━━━━\u001B[0m \u001B[32m325.3/325.3 kB\u001B[0m \u001B[31m102.2 MB/s\u001B[0m eta \u001B[36m0:00:00\u001B[0m\n\u001B[?25hRequirement already satisfied: contourpy>=1.0.1 in /home/trusted-service-user/cluster-env/trident_env/lib/python3.10/site-packages (from matplotlib==3.7.*->ydata-synthetic) (1.1.1)\nRequirement already satisfied: cycler>=0.10 in /home/trusted-service-user/cluster-env/trident_env/lib/python3.10/site-packages (from matplotlib==3.7.*->ydata-synthetic) (0.12.1)\nRequirement already satisfied: fonttools>=4.22.0 in /home/trusted-service-user/cluster-env/trident_env/lib/python3.10/site-packages (from matplotlib==3.7.*->ydata-synthetic) (4.43.1)\nRequirement already satisfied: kiwisolver>=1.0.1 in /home/trusted-service-user/cluster-env/trident_env/lib/python3.10/site-packages (from matplotlib==3.7.*->ydata-synthetic) (1.4.5)\nRequirement already satisfied: packaging>=20.0 in /home/trusted-service-user/cluster-env/trident_env/lib/python3.10/site-packages (from matplotlib==3.7.*->ydata-synthetic) (23.2)\nRequirement already satisfied: pillow>=6.2.0 in /home/trusted-service-user/cluster-env/trident_env/lib/python3.10/site-packages (from matplotlib==3.7.*->ydata-synthetic) (10.0.1)\nRequirement already satisfied: pyparsing<3.1,>=2.3.1 in /home/trusted-service-user/cluster-env/trident_env/lib/python3.10/site-packages (from matplotlib==3.7.*->ydata-synthetic) (3.0.9)\nRequirement already satisfied: python-dateutil>=2.7 in /home/trusted-service-user/cluster-env/trident_env/lib/python3.10/site-packages (from matplotlib==3.7.*->ydata-synthetic) (2.8.2)\nRequirement already satisfied: pytz>=2020.1 in /home/trusted-service-user/cluster-env/trident_env/lib/python3.10/site-packages (from pandas==2.0.*->ydata-synthetic) (2023.3.post1)\nRequirement already satisfied: tzdata>=2022.1 in /home/trusted-service-user/cluster-env/trident_env/lib/python3.10/site-packages (from pandas==2.0.*->ydata-synthetic) (2023.3)\nRequirement already satisfied: pyyaml>=5.3.1 in /home/trusted-service-user/cluster-env/trident_env/lib/python3.10/site-packages (from pmlb==1.0.*->ydata-synthetic) (6.0.1)\nCollecting iniconfig (from pytest==7.4.*->ydata-synthetic)\n  Downloading iniconfig-2.0.0-py3-none-any.whl (5.9 kB)\nCollecting pluggy<2.0,>=0.12 (from pytest==7.4.*->ydata-synthetic)\n  Downloading pluggy-1.4.0-py3-none-any.whl (20 kB)\nRequirement already satisfied: exceptiongroup>=1.0.0rc8 in /home/trusted-service-user/cluster-env/trident_env/lib/python3.10/site-packages (from pytest==7.4.*->ydata-synthetic) (1.1.3)\nRequirement already satisfied: tomli>=1.0.0 in /home/trusted-service-user/cluster-env/trident_env/lib/python3.10/site-packages (from pytest==7.4.*->ydata-synthetic) (2.0.1)\nRequirement already satisfied: scipy>=1.5.0 in /home/trusted-service-user/cluster-env/trident_env/lib/python3.10/site-packages (from scikit-learn==1.3.*->ydata-synthetic) (1.10.1)\nRequirement already satisfied: joblib>=1.1.1 in /home/trusted-service-user/cluster-env/trident_env/lib/python3.10/site-packages (from scikit-learn==1.3.*->ydata-synthetic) (1.3.2)\nRequirement already satisfied: threadpoolctl>=2.0.0 in /home/trusted-service-user/cluster-env/trident_env/lib/python3.10/site-packages (from scikit-learn==1.3.*->ydata-synthetic) (3.2.0)\nRequirement already satisfied: absl-py>=1.0.0 in /home/trusted-service-user/cluster-env/trident_env/lib/python3.10/site-packages (from tensorflow==2.12.0->ydata-synthetic) (2.0.0)\nRequirement already satisfied: astunparse>=1.6.0 in /home/trusted-service-user/cluster-env/trident_env/lib/python3.10/site-packages (from tensorflow==2.12.0->ydata-synthetic) (1.6.3)\nRequirement already satisfied: flatbuffers>=2.0 in /home/trusted-service-user/cluster-env/trident_env/lib/python3.10/site-packages (from tensorflow==2.12.0->ydata-synthetic) (23.5.26)\nRequirement already satisfied: gast<=0.4.0,>=0.2.1 in /home/trusted-service-user/cluster-env/trident_env/lib/python3.10/site-packages (from tensorflow==2.12.0->ydata-synthetic) (0.4.0)\nRequirement already satisfied: google-pasta>=0.1.1 in /home/trusted-service-user/cluster-env/trident_env/lib/python3.10/site-packages (from tensorflow==2.12.0->ydata-synthetic) (0.2.0)\nRequirement already satisfied: grpcio<2.0,>=1.24.3 in /home/trusted-service-user/cluster-env/trident_env/lib/python3.10/site-packages (from tensorflow==2.12.0->ydata-synthetic) (1.54.3)\nRequirement already satisfied: h5py>=2.9.0 in /home/trusted-service-user/cluster-env/trident_env/lib/python3.10/site-packages (from tensorflow==2.12.0->ydata-synthetic) (3.10.0)\nRequirement already satisfied: jax>=0.3.15 in /home/trusted-service-user/cluster-env/trident_env/lib/python3.10/site-packages (from tensorflow==2.12.0->ydata-synthetic) (0.4.17)\nRequirement already satisfied: keras<2.13,>=2.12.0 in /home/trusted-service-user/cluster-env/trident_env/lib/python3.10/site-packages (from tensorflow==2.12.0->ydata-synthetic) (2.12.0)\nCollecting libclang>=13.0.0 (from tensorflow==2.12.0->ydata-synthetic)\n  Downloading libclang-18.1.1-py2.py3-none-manylinux2010_x86_64.whl (24.5 MB)\n\u001B[2K     \u001B[90m━━━━━━━━━━━━━━━━━━━━━━━━━━━━━━━━━━━━━━━\u001B[0m \u001B[32m24.5/24.5 MB\u001B[0m \u001B[31m110.5 MB/s\u001B[0m eta \u001B[36m0:00:00\u001B[0m00:01\u001B[0m00:01\u001B[0m\n\u001B[?25hRequirement already satisfied: opt-einsum>=2.3.2 in /home/trusted-service-user/cluster-env/trident_env/lib/python3.10/site-packages (from tensorflow==2.12.0->ydata-synthetic) (3.3.0)\nRequirement already satisfied: protobuf!=4.21.0,!=4.21.1,!=4.21.2,!=4.21.3,!=4.21.4,!=4.21.5,<5.0.0dev,>=3.20.3 in /home/trusted-service-user/cluster-env/trident_env/lib/python3.10/site-packages (from tensorflow==2.12.0->ydata-synthetic) (4.21.12)\nRequirement already satisfied: setuptools in /home/trusted-service-user/cluster-env/trident_env/lib/python3.10/site-packages (from tensorflow==2.12.0->ydata-synthetic) (68.2.2)\nRequirement already satisfied: six>=1.12.0 in /home/trusted-service-user/cluster-env/trident_env/lib/python3.10/site-packages (from tensorflow==2.12.0->ydata-synthetic) (1.16.0)\nRequirement already satisfied: tensorboard<2.13,>=2.12 in /home/trusted-service-user/cluster-env/trident_env/lib/python3.10/site-packages (from tensorflow==2.12.0->ydata-synthetic) (2.12.3)\nRequirement already satisfied: tensorflow-estimator<2.13,>=2.12.0 in /home/trusted-service-user/cluster-env/trident_env/lib/python3.10/site-packages (from tensorflow==2.12.0->ydata-synthetic) (2.12.0)\nRequirement already satisfied: termcolor>=1.1.0 in /home/trusted-service-user/cluster-env/trident_env/lib/python3.10/site-packages (from tensorflow==2.12.0->ydata-synthetic) (2.3.0)\nRequirement already satisfied: typing-extensions>=3.6.6 in /home/trusted-service-user/cluster-env/trident_env/lib/python3.10/site-packages (from tensorflow==2.12.0->ydata-synthetic) (4.5.0)\nCollecting wrapt<1.15,>=1.11.0 (from tensorflow==2.12.0->ydata-synthetic)\n  Downloading wrapt-1.14.1-cp310-cp310-manylinux_2_5_x86_64.manylinux1_x86_64.manylinux_2_17_x86_64.manylinux2014_x86_64.whl (77 kB)\n\u001B[2K     \u001B[90m━━━━━━━━━━━━━━━━━━━━━━━━━━━━━━━━━━━━━━━━\u001B[0m \u001B[32m77.9/77.9 kB\u001B[0m \u001B[31m33.4 MB/s\u001B[0m eta \u001B[36m0:00:00\u001B[0m\n\u001B[?25hCollecting tensorflow-io-gcs-filesystem>=0.23.1 (from tensorflow==2.12.0->ydata-synthetic)\n  Downloading tensorflow_io_gcs_filesystem-0.36.0-cp310-cp310-manylinux_2_17_x86_64.manylinux2014_x86_64.whl (5.1 MB)\n\u001B[2K     \u001B[90m━━━━━━━━━━━━━━━━━━━━━━━━━━━━━━━━━━━━━━━━\u001B[0m \u001B[32m5.1/5.1 MB\u001B[0m \u001B[31m192.7 MB/s\u001B[0m eta \u001B[36m0:00:00\u001B[0m\n\u001B[?25hRequirement already satisfied: decorator in /home/trusted-service-user/cluster-env/trident_env/lib/python3.10/site-packages (from tensorflow-probability==0.19.0->ydata-synthetic) (5.1.1)\nRequirement already satisfied: cloudpickle>=1.3 in /home/trusted-service-user/cluster-env/trident_env/lib/python3.10/site-packages (from tensorflow-probability==0.19.0->ydata-synthetic) (2.2.1)\nCollecting dm-tree (from tensorflow-probability==0.19.0->ydata-synthetic)\n  Downloading dm_tree-0.1.8-cp310-cp310-manylinux_2_17_x86_64.manylinux2014_x86_64.whl (152 kB)\n\u001B[2K     \u001B[90m━━━━━━━━━━━━━━━━━━━━━━━━━━━━━━━━━━━━━━\u001B[0m \u001B[32m152.8/152.8 kB\u001B[0m \u001B[31m57.9 MB/s\u001B[0m eta \u001B[36m0:00:00\u001B[0m\n\u001B[?25hCollecting typing-extensions>=3.6.6 (from tensorflow==2.12.0->ydata-synthetic)\n  Downloading typing_extensions-4.10.0-py3-none-any.whl (33 kB)\nRequirement already satisfied: charset-normalizer<4,>=2 in /home/trusted-service-user/cluster-env/trident_env/lib/python3.10/site-packages (from requests<2.31,>=2.30->ydata-synthetic) (3.3.1)\nRequirement already satisfied: idna<4,>=2.5 in /home/trusted-service-user/cluster-env/trident_env/lib/python3.10/site-packages (from requests<2.31,>=2.30->ydata-synthetic) (3.4)\nRequirement already satisfied: urllib3<3,>=1.21.1 in /home/trusted-service-user/cluster-env/trident_env/lib/python3.10/site-packages (from requests<2.31,>=2.30->ydata-synthetic) (1.26.17)\nRequirement already satisfied: certifi>=2017.4.17 in /home/trusted-service-user/cluster-env/trident_env/lib/python3.10/site-packages (from requests<2.31,>=2.30->ydata-synthetic) (2023.7.22)\nRequirement already satisfied: wheel<1.0,>=0.23.0 in /home/trusted-service-user/cluster-env/trident_env/lib/python3.10/site-packages (from astunparse>=1.6.0->tensorflow==2.12.0->ydata-synthetic) (0.41.2)\nRequirement already satisfied: ml-dtypes>=0.2.0 in /home/trusted-service-user/cluster-env/trident_env/lib/python3.10/site-packages (from jax>=0.3.15->tensorflow==2.12.0->ydata-synthetic) (0.3.1)\nRequirement already satisfied: google-auth<3,>=1.6.3 in /home/trusted-service-user/cluster-env/trident_env/lib/python3.10/site-packages (from tensorboard<2.13,>=2.12->tensorflow==2.12.0->ydata-synthetic) (2.23.3)\nRequirement already satisfied: google-auth-oauthlib<1.1,>=0.5 in /home/trusted-service-user/cluster-env/trident_env/lib/python3.10/site-packages (from tensorboard<2.13,>=2.12->tensorflow==2.12.0->ydata-synthetic) (1.0.0)\nRequirement already satisfied: markdown>=2.6.8 in /home/trusted-service-user/cluster-env/trident_env/lib/python3.10/site-packages (from tensorboard<2.13,>=2.12->tensorflow==2.12.0->ydata-synthetic) (3.4.4)\nRequirement already satisfied: tensorboard-data-server<0.8.0,>=0.7.0 in /home/trusted-service-user/cluster-env/trident_env/lib/python3.10/site-packages (from tensorboard<2.13,>=2.12->tensorflow==2.12.0->ydata-synthetic) (0.7.0)\nRequirement already satisfied: werkzeug>=1.0.1 in /home/trusted-service-user/cluster-env/trident_env/lib/python3.10/site-packages (from tensorboard<2.13,>=2.12->tensorflow==2.12.0->ydata-synthetic) (3.0.1)\nRequirement already satisfied: cachetools<6.0,>=2.0.0 in /home/trusted-service-user/cluster-env/trident_env/lib/python3.10/site-packages (from google-auth<3,>=1.6.3->tensorboard<2.13,>=2.12->tensorflow==2.12.0->ydata-synthetic) (5.3.2)\nRequirement already satisfied: pyasn1-modules>=0.2.1 in /home/trusted-service-user/cluster-env/trident_env/lib/python3.10/site-packages (from google-auth<3,>=1.6.3->tensorboard<2.13,>=2.12->tensorflow==2.12.0->ydata-synthetic) (0.3.0)\nRequirement already satisfied: rsa<5,>=3.1.4 in /home/trusted-service-user/cluster-env/trident_env/lib/python3.10/site-packages (from google-auth<3,>=1.6.3->tensorboard<2.13,>=2.12->tensorflow==2.12.0->ydata-synthetic) (4.9)\nRequirement already satisfied: requests-oauthlib>=0.7.0 in /home/trusted-service-user/cluster-env/trident_env/lib/python3.10/site-packages (from google-auth-oauthlib<1.1,>=0.5->tensorboard<2.13,>=2.12->tensorflow==2.12.0->ydata-synthetic) (1.3.1)\nRequirement already satisfied: MarkupSafe>=2.1.1 in /home/trusted-service-user/cluster-env/trident_env/lib/python3.10/site-packages (from werkzeug>=1.0.1->tensorboard<2.13,>=2.12->tensorflow==2.12.0->ydata-synthetic) (2.1.3)\nRequirement already satisfied: pyasn1<0.6.0,>=0.4.6 in /home/trusted-service-user/cluster-env/trident_env/lib/python3.10/site-packages (from pyasn1-modules>=0.2.1->google-auth<3,>=1.6.3->tensorboard<2.13,>=2.12->tensorflow==2.12.0->ydata-synthetic) (0.5.0)\nRequirement already satisfied: oauthlib>=3.0.0 in /home/trusted-service-user/cluster-env/trident_env/lib/python3.10/site-packages (from requests-oauthlib>=0.7.0->google-auth-oauthlib<1.1,>=0.5->tensorboard<2.13,>=2.12->tensorflow==2.12.0->ydata-synthetic) (3.2.2)\nBuilding wheels for collected packages: easydict\n  Building wheel for easydict (setup.py) ... \u001B[?25l-\b \b\\\b \b|\b \bdone\n\u001B[?25h  Created wheel for easydict: filename=easydict-1.10-py3-none-any.whl size=6489 sha256=2bb75ee53e95d56c38102ff74ae5bc55d51203a0f5837ed381efa5d5dd8ff5f0\n  Stored in directory: /home/trusted-service-user/.cache/pip/wheels/b7/e3/8c/f814820ac7ef5fd96f38759ce0d3dc51166a3169008b31da53\nSuccessfully built easydict\nInstalling collected packages: libclang, easydict, dm-tree, wrapt, typing-extensions, tensorflow-io-gcs-filesystem, requests, pluggy, numpy, iniconfig, typeguard, tensorflow-probability, pytest, pmlb, tensorflow, ydata-synthetic\n  Attempting uninstall: wrapt\n    Found existing installation: wrapt 1.15.0\n    Not uninstalling wrapt at /home/trusted-service-user/cluster-env/trident_env/lib/python3.10/site-packages, outside environment /nfs4/pyenv-ca5f6a4e-da4f-4ca7-b036-f1531f355efa\n    Can't uninstall 'wrapt'. No files were found to uninstall.\n  Attempting uninstall: typing-extensions\n    Found existing installation: typing_extensions 4.5.0\n    Not uninstalling typing-extensions at /home/trusted-service-user/cluster-env/trident_env/lib/python3.10/site-packages, outside environment /nfs4/pyenv-ca5f6a4e-da4f-4ca7-b036-f1531f355efa\n    Can't uninstall 'typing_extensions'. No files were found to uninstall.\n  Attempting uninstall: requests\n    Found existing installation: requests 2.31.0\n    Not uninstalling requests at /home/trusted-service-user/cluster-env/trident_env/lib/python3.10/site-packages, outside environment /nfs4/pyenv-ca5f6a4e-da4f-4ca7-b036-f1531f355efa\n    Can't uninstall 'requests'. No files were found to uninstall.\n  Attempting uninstall: numpy\n    Found existing installation: numpy 1.24.3\n    Not uninstalling numpy at /home/trusted-service-user/cluster-env/trident_env/lib/python3.10/site-packages, outside environment /nfs4/pyenv-ca5f6a4e-da4f-4ca7-b036-f1531f355efa\n    Can't uninstall 'numpy'. No files were found to uninstall.\n  Attempting uninstall: typeguard\n    Found existing installation: typeguard 2.13.3\n    Not uninstalling typeguard at /home/trusted-service-user/cluster-env/trident_env/lib/python3.10/site-packages, outside environment /nfs4/pyenv-ca5f6a4e-da4f-4ca7-b036-f1531f355efa\n    Can't uninstall 'typeguard'. No files were found to uninstall.\n  Attempting uninstall: tensorflow\n    Found existing installation: tensorflow 2.12.1\n    Not uninstalling tensorflow at /home/trusted-service-user/cluster-env/trident_env/lib/python3.10/site-packages, outside environment /nfs4/pyenv-ca5f6a4e-da4f-4ca7-b036-f1531f355efa\n    Can't uninstall 'tensorflow'. No files were found to uninstall.\n\u001B[31mERROR: pip's dependency resolver does not currently take into account all the packages that are installed. This behaviour is the source of the following dependency conflicts.\nlime 0.2.0.1 requires scikit-image>=0.12, which is not installed.\nsentence-transformers 2.0.0 requires sentencepiece, which is not installed.\nsentence-transformers 2.0.0 requires torchvision, which is not installed.\ndash 2.14.0 requires Flask<2.3.0,>=1.0.4, but you have flask 3.0.0 which is incompatible.\ndash 2.14.0 requires Werkzeug<2.3.0, but you have werkzeug 3.0.1 which is incompatible.\nnni 2.10.1 requires typeguard<3, but you have typeguard 4.0.1 which is incompatible.\npandas-stubs 2.1.1.230928 requires numpy>=1.26.0; python_version < \"3.13\", but you have numpy 1.23.5 which is incompatible.\u001B[0m\u001B[31m\n\u001B[0mSuccessfully installed dm-tree-0.1.8 easydict-1.10 iniconfig-2.0.0 libclang-18.1.1 numpy-1.23.5 pluggy-1.4.0 pmlb-1.0.1.post3 pytest-7.4.4 requests-2.30.0 tensorflow-2.12.0 tensorflow-io-gcs-filesystem-0.36.0 tensorflow-probability-0.19.0 typeguard-4.0.1 typing-extensions-4.10.0 wrapt-1.14.1 ydata-synthetic-1.3.2\n\n\u001B[1m[\u001B[0m\u001B[34;49mnotice\u001B[0m\u001B[1;39;49m]\u001B[0m\u001B[39;49m A new release of pip is available: \u001B[0m\u001B[31;49m23.1.2\u001B[0m\u001B[39;49m -> \u001B[0m\u001B[32;49m24.0\u001B[0m\n\u001B[1m[\u001B[0m\u001B[34;49mnotice\u001B[0m\u001B[1;39;49m]\u001B[0m\u001B[39;49m To update, run: \u001B[0m\u001B[32;49mpython -m pip install --upgrade pip\u001B[0m\nNote: you may need to restart the kernel to use updated packages.\nenv: TF_CPP_MIN_LOG_LEVEL=3\nWarning: PySpark kernel has been restarted to use updated packages.\n\n"
     ]
    }
   ],
   "source": [
    "%env TF_CPP_MIN_LOG_LEVEL=3\n",
    "%pip install ydata-synthetic\n",
    "\n",
    "import tensorflow as tf\n",
    "from tensorflow.keras import Sequential\n",
    "from tensorflow.keras.layers import GRU, Dense, Conv1D, MaxPooling1D, Flatten,Dropout\n",
    "from tensorflow.keras.optimizers import Adam\n",
    "from tensorflow.keras.losses import MeanAbsoluteError\n",
    "from tensorflow.keras.callbacks import EarlyStopping\n",
    "from sklearn.metrics import r2_score, mean_absolute_error, mean_squared_log_error\n",
    "import pyspark as ps\n",
    "import pandas as pd\n",
    "from sklearn.preprocessing import MinMaxScaler\n",
    "import numpy as np\n",
    "import matplotlib.pyplot as plt\n",
    "import matplotlib.gridspec as gridspec\n",
    "from ydata_synthetic.synthesizers.timeseries import TimeSeriesSynthesizer\n",
    "from ydata_synthetic.synthesizers import ModelParameters, TrainParameters\n",
    "from sklearn.decomposition import PCA\n",
    "from sklearn.manifold import TSNE\n",
    "from scipy.stats import bernoulli\n",
    "from sklearn.model_selection import train_test_split"
   ]
  },
  {
   "cell_type": "code",
   "execution_count": 0,
   "metadata": {
    "application/vnd.databricks.v1+cell": {
     "cellMetadata": {},
     "inputWidgets": {},
     "nuid": "895d4443-16c5-465c-bca1-0dfa608a7e09",
     "showTitle": false,
     "title": ""
    },
    "nteract": {
     "transient": {
      "deleting": false
     }
    }
   },
   "outputs": [
    {
     "output_type": "display_data",
     "data": {
      "application/vnd.livy.statement-meta+json": {
       "execution_finish_time": "2024-03-19T18:33:29.4569122Z",
       "execution_start_time": "2024-03-19T18:33:25.9483648Z",
       "livy_statement_state": "available",
       "parent_msg_id": "f394603e-9cfc-4648-b0b0-a7237c112b6f",
       "queued_time": "2024-03-19T18:29:36.3918887Z",
       "session_id": "f5af308f-1c3d-48b7-b37e-6b100cb697b1",
       "session_start_time": null,
       "spark_pool": null,
       "state": "finished",
       "statement_id": 10
      },
      "text/plain": [
       "StatementMeta(, f5af308f-1c3d-48b7-b37e-6b100cb697b1, 10, Finished, Available)"
      ]
     },
     "metadata": {},
     "output_type": "display_data"
    }
   ],
   "source": [
    "df = pd.read_parquet(\"abfss://ML_Stab_TI_Energinet_EBI@onelake.dfs.fabric.microsoft.com/Ines.Lakehouse/Tables/mw08003_complete_extended\")\n",
    "df.rename(columns = {'Zeitpunkt_x': 'Zeitpunkt'}, inplace=True)\n",
    "df.sort_values('Zeitpunkt', inplace= True)\n",
    "# df['temp'] = df['temp'].shift(-8)\n",
    "# df = df.dropna()\n",
    "df['Wert'] = df['Wert'].astype(float)\n",
    "\n",
    "df.reset_index(drop=True, inplace=True)"
   ]
  },
  {
   "cell_type": "code",
   "execution_count": 0,
   "metadata": {
    "application/vnd.databricks.v1+cell": {
     "cellMetadata": {},
     "inputWidgets": {},
     "nuid": "ec96cd49-0295-44e5-a9b0-7e9cdf481bfe",
     "showTitle": false,
     "title": ""
    },
    "nteract": {
     "transient": {
      "deleting": false
     }
    }
   },
   "outputs": [
    {
     "output_type": "display_data",
     "data": {
      "application/vnd.livy.statement-meta+json": {
       "execution_finish_time": "2024-03-19T18:33:30.182812Z",
       "execution_start_time": "2024-03-19T18:33:29.9466534Z",
       "livy_statement_state": "available",
       "parent_msg_id": "4803f619-cd50-4218-b5a7-3ddf66daac25",
       "queued_time": "2024-03-19T18:29:36.3924685Z",
       "session_id": "f5af308f-1c3d-48b7-b37e-6b100cb697b1",
       "session_start_time": null,
       "spark_pool": null,
       "state": "finished",
       "statement_id": 11
      },
      "text/plain": [
       "StatementMeta(, f5af308f-1c3d-48b7-b37e-6b100cb697b1, 11, Finished, Available)"
      ]
     },
     "metadata": {},
     "output_type": "display_data"
    }
   ],
   "source": [
    "# Filter the rows where the year in 'Zeitpunkt' is 2023\n",
    "df = df[df['Zeitpunkt'].dt.year == 2023]"
   ]
  },
  {
   "cell_type": "code",
   "execution_count": 0,
   "metadata": {
    "application/vnd.databricks.v1+cell": {
     "cellMetadata": {},
     "inputWidgets": {},
     "nuid": "941fd53e-bab0-4c7c-af82-1fd67b527a84",
     "showTitle": false,
     "title": ""
    },
    "nteract": {
     "transient": {
      "deleting": false
     }
    }
   },
   "outputs": [
    {
     "output_type": "display_data",
     "data": {
      "application/vnd.livy.statement-meta+json": {
       "execution_finish_time": "2024-03-19T19:30:01.2120547Z",
       "execution_start_time": "2024-03-19T19:30:00.9551789Z",
       "livy_statement_state": "available",
       "parent_msg_id": "577ed2a2-b78b-4d51-85ba-6a1c4f6f086c",
       "queued_time": "2024-03-19T19:29:59.4188289Z",
       "session_id": "f5af308f-1c3d-48b7-b37e-6b100cb697b1",
       "session_start_time": null,
       "spark_pool": null,
       "state": "finished",
       "statement_id": 68
      },
      "text/plain": [
       "StatementMeta(, f5af308f-1c3d-48b7-b37e-6b100cb697b1, 68, Finished, Available)"
      ]
     },
     "metadata": {},
     "output_type": "display_data"
    }
   ],
   "source": [
    "def preprocess_for_timegan(df, timestamp_col, num_cols, cat_cols=None, seq_len=24, simulate_bernoulli=False, shuffle=False):\n",
    "    # Ensure the DataFrame is sorted by timestamp\n",
    "    df_sorted = df.sort_values(by=timestamp_col).reset_index(drop=True)\n",
    "    \n",
    "    # Normalize the specified continuous columns\n",
    "    scaler = MinMaxScaler()\n",
    "    df_sorted[num_cols] = scaler.fit_transform(df_sorted[num_cols])\n",
    "    \n",
    "    # Initialize cat_cols if None is provided\n",
    "    if cat_cols is None:\n",
    "        cat_cols = []\n",
    "    \n",
    "    # Simulate each categorical column using Bernoulli distribution if simulate_bernoulli is True\n",
    "    if simulate_bernoulli and cat_cols:\n",
    "        for cat_col in cat_cols:\n",
    "            p = df_sorted[cat_col].mean()  # Probability of success (1) for each column\n",
    "            df_sorted[cat_col] = bernoulli.rvs(p, size=df_sorted.shape[0])\n",
    "\n",
    "    # Concatenate column names for continuous and categorical data\n",
    "    column_names_combined = num_cols + cat_cols\n",
    "\n",
    "    # Create sequences\n",
    "    sequences = []\n",
    "    for i in range(len(df_sorted) - seq_len + 1):\n",
    "        sequence = df_sorted[column_names_combined].iloc[i:i + seq_len].values\n",
    "        sequences.append(sequence)\n",
    "\n",
    "    # Optionally shuffle sequences\n",
    "    if shuffle:\n",
    "        random.shuffle(sequences)\n",
    "\n",
    "    # Convert list of sequences to a 3D numpy array\n",
    "    sequences_array = np.array(sequences)\n",
    "\n",
    "    return sequences_array, scaler, column_names_combined"
   ]
  },
  {
   "cell_type": "code",
   "execution_count": 0,
   "metadata": {
    "application/vnd.databricks.v1+cell": {
     "cellMetadata": {},
     "inputWidgets": {},
     "nuid": "b3d8c3e6-9013-49cc-ab90-7f9dc07cb62a",
     "showTitle": false,
     "title": ""
    },
    "nteract": {
     "transient": {
      "deleting": false
     }
    }
   },
   "outputs": [
    {
     "output_type": "display_data",
     "data": {
      "application/vnd.livy.statement-meta+json": {
       "execution_finish_time": "2024-03-19T19:30:05.1464599Z",
       "execution_start_time": "2024-03-19T19:30:01.6268186Z",
       "livy_statement_state": "available",
       "parent_msg_id": "b059202b-9944-4dc7-8584-1f77ab919c81",
       "queued_time": "2024-03-19T19:29:59.4997094Z",
       "session_id": "f5af308f-1c3d-48b7-b37e-6b100cb697b1",
       "session_start_time": null,
       "spark_pool": null,
       "state": "finished",
       "statement_id": 69
      },
      "text/plain": [
       "StatementMeta(, f5af308f-1c3d-48b7-b37e-6b100cb697b1, 69, Finished, Available)"
      ]
     },
     "metadata": {},
     "output_type": "display_data"
    }
   ],
   "source": [
    "sequence_length = 24\n",
    "num_cols = ['Wert', 'temp']\n",
    "# cat_cols = ['day_type_indicator']\n",
    "\n",
    "processed_data, scaler, col_names = preprocess_for_timegan(\n",
    "    df, \n",
    "    'Zeitpunkt', \n",
    "    num_cols, \n",
    "    # cat_cols, \n",
    "    seq_len=sequence_length, \n",
    "    simulate_bernoulli=True,  # Set to True to simulate binary variable with Bernoulli\n",
    "    shuffle=False  # Set to True if you want to shuffle the sequences\n",
    ")"
   ]
  },
  {
   "cell_type": "code",
   "execution_count": 0,
   "metadata": {
    "application/vnd.databricks.v1+cell": {
     "cellMetadata": {},
     "inputWidgets": {},
     "nuid": "743da789-e045-4463-8fb9-e21eea74759c",
     "showTitle": false,
     "title": ""
    },
    "nteract": {
     "transient": {
      "deleting": false
     }
    }
   },
   "outputs": [
    {
     "output_type": "display_data",
     "data": {
      "application/vnd.livy.statement-meta+json": {
       "execution_finish_time": "2024-03-19T19:30:05.8388748Z",
       "execution_start_time": "2024-03-19T19:30:05.5893756Z",
       "livy_statement_state": "available",
       "parent_msg_id": "1935f110-2cc7-4f4a-a56b-f9befe60378e",
       "queued_time": "2024-03-19T19:29:59.58194Z",
       "session_id": "f5af308f-1c3d-48b7-b37e-6b100cb697b1",
       "session_start_time": null,
       "spark_pool": null,
       "state": "finished",
       "statement_id": 70
      },
      "text/plain": [
       "StatementMeta(, f5af308f-1c3d-48b7-b37e-6b100cb697b1, 70, Finished, Available)"
      ]
     },
     "metadata": {},
     "output_type": "display_data"
    }
   ],
   "source": [
    "class TimeGANConfig:\n",
    "    def __init__(self, column_names, seq_len, hidden_dim, gamma, noise_dim, dim, batch_size, learning_rate, epochs):\n",
    "        self.seq_len = seq_len\n",
    "        self.hidden_dim = hidden_dim\n",
    "        self.gamma = gamma\n",
    "        self.noise_dim = noise_dim\n",
    "        self.dim = dim\n",
    "        self.batch_size = batch_size\n",
    "        self.learning_rate = learning_rate\n",
    "        self.epochs = epochs\n",
    "        self.column_names = column_names\n",
    "        self.n_seq = len(column_names)\n",
    "\n",
    "        # Store GAN and training arguments\n",
    "        self.gan_args = self.get_gan_args()\n",
    "        self.train_args = self.get_train_args()\n",
    "\n",
    "    \n",
    "    def get_gan_args(self):\n",
    "        return ModelParameters(\n",
    "            batch_size=self.batch_size, \n",
    "            lr=self.learning_rate, \n",
    "            noise_dim=self.noise_dim, \n",
    "            layers_dim=self.dim\n",
    "        )\n",
    "\n",
    "    def get_train_args(self):\n",
    "        return TrainParameters(\n",
    "            epochs=self.epochs, \n",
    "            sequence_length=self.seq_len, \n",
    "            number_sequences=self.n_seq\n",
    "        )\n",
    "        \n",
    "    def update_params(self, **kwargs):\n",
    "        for key, value in kwargs.items():\n",
    "            setattr(self, key, value)\n",
    "    \n",
    "    def initialize_synth(self):\n",
    "        self.synth = TimeSeriesSynthesizer(modelname='timegan', model_parameters=self.gan_args)\n",
    "\n",
    "    def fit(self, df):\n",
    "        self.synth.fit(df, self.train_args, num_cols=self.column_names)\n"
   ]
  },
  {
   "cell_type": "code",
   "execution_count": 0,
   "metadata": {
    "application/vnd.databricks.v1+cell": {
     "cellMetadata": {},
     "inputWidgets": {},
     "nuid": "d3b8f101-9af4-450b-bae8-b8f608e36050",
     "showTitle": false,
     "title": ""
    },
    "nteract": {
     "transient": {
      "deleting": false
     }
    }
   },
   "outputs": [
    {
     "output_type": "display_data",
     "data": {
      "application/vnd.livy.statement-meta+json": {
       "execution_finish_time": "2024-03-19T20:18:15.7144494Z",
       "execution_start_time": "2024-03-19T19:30:06.2624655Z",
       "livy_statement_state": "available",
       "parent_msg_id": "bb70a64d-3c08-49d4-bf9e-755711da4509",
       "queued_time": "2024-03-19T19:29:59.6727695Z",
       "session_id": "f5af308f-1c3d-48b7-b37e-6b100cb697b1",
       "session_start_time": null,
       "spark_pool": null,
       "state": "finished",
       "statement_id": 71
      },
      "text/plain": [
       "StatementMeta(, f5af308f-1c3d-48b7-b37e-6b100cb697b1, 71, Finished, Available)"
      ]
     },
     "metadata": {},
     "output_type": "display_data"
    },
    {
     "output_type": "stream",
     "name": "stdout",
     "output_type": "stream",
     "text": [
      "A DataProcessor is not available for the TimeGAN.\n"
     ]
    },
    {
     "output_type": "stream",
     "name": "stderr",
     "output_type": "stream",
     "text": [
      "Emddeding network training: 100%|██████████| 1000/1000 [04:55<00:00,  3.38it/s]\nSupervised network training: 100%|██████████| 1000/1000 [04:05<00:00,  4.08it/s]\nJoint networks training: 100%|██████████| 1000/1000 [39:00<00:00,  2.34s/it]\n"
     ]
    }
   ],
   "source": [
    "config = TimeGANConfig(\n",
    "    column_names=col_names,\n",
    "    seq_len=sequence_length,\n",
    "    hidden_dim=24,\n",
    "    gamma=1,\n",
    "    noise_dim=32,\n",
    "    dim=128,\n",
    "    batch_size=128,\n",
    "    learning_rate=5e-4,\n",
    "    epochs=1000\n",
    ")\n",
    "\n",
    "# Initialize synthesizer\n",
    "synthesizer = config.initialize_synth()\n",
    "\n",
    "\n",
    "# Fit the model\n",
    "config.fit(df)\n"
   ]
  },
  {
   "cell_type": "code",
   "execution_count": 0,
   "metadata": {
    "application/vnd.databricks.v1+cell": {
     "cellMetadata": {},
     "inputWidgets": {},
     "nuid": "a63d5777-d293-4ef5-924c-566094b1e99f",
     "showTitle": false,
     "title": ""
    },
    "nteract": {
     "transient": {
      "deleting": false
     }
    }
   },
   "outputs": [
    {
     "output_type": "display_data",
     "data": {
      "application/vnd.livy.statement-meta+json": {
       "execution_finish_time": "2024-03-19T20:18:24.1271934Z",
       "execution_start_time": "2024-03-19T20:18:16.1815422Z",
       "livy_statement_state": "available",
       "parent_msg_id": "06dbb6c3-69db-4bdb-99c1-7b6a79c8d5a6",
       "queued_time": "2024-03-19T19:29:59.7693883Z",
       "session_id": "f5af308f-1c3d-48b7-b37e-6b100cb697b1",
       "session_start_time": null,
       "spark_pool": null,
       "state": "finished",
       "statement_id": 72
      },
      "text/plain": [
       "StatementMeta(, f5af308f-1c3d-48b7-b37e-6b100cb697b1, 72, Finished, Available)"
      ]
     },
     "metadata": {},
     "output_type": "display_data"
    }
   ],
   "source": [
    "# # Generate synthetic data\n",
    "syntheitc_data = np.asarray(config.synth.sample(len(processed_data)))"
   ]
  },
  {
   "cell_type": "code",
   "execution_count": 0,
   "metadata": {
    "application/vnd.databricks.v1+cell": {
     "cellMetadata": {},
     "inputWidgets": {},
     "nuid": "5366b34f-ace0-496f-8d65-a941ba3ceafe",
     "showTitle": false,
     "title": ""
    },
    "nteract": {
     "transient": {
      "deleting": false
     }
    }
   },
   "outputs": [
    {
     "output_type": "display_data",
     "data": {
      "application/vnd.livy.statement-meta+json": {
       "execution_finish_time": "2024-03-19T20:18:24.8662593Z",
       "execution_start_time": "2024-03-19T20:18:24.6351843Z",
       "livy_statement_state": "available",
       "parent_msg_id": "9a9bb1b8-2297-491c-aac3-933bb004d471",
       "queued_time": "2024-03-19T19:29:59.8774698Z",
       "session_id": "f5af308f-1c3d-48b7-b37e-6b100cb697b1",
       "session_start_time": null,
       "spark_pool": null,
       "state": "finished",
       "statement_id": 73
      },
      "text/plain": [
       "StatementMeta(, f5af308f-1c3d-48b7-b37e-6b100cb697b1, 73, Finished, Available)"
      ]
     },
     "metadata": {},
     "output_type": "display_data"
    }
   ],
   "source": [
    "def create_split_indices(total_samples, test_size, validation_size):\n",
    "    \"\"\"\n",
    "    Create indices for the training, validation, and testing splits.\n",
    "    \"\"\"\n",
    "    indices = np.arange(total_samples)\n",
    "    np.random.shuffle(indices)  # Shuffle the indices\n",
    "    test_end = int(total_samples * test_size)\n",
    "    validation_end = test_end + int(total_samples * validation_size)\n",
    "    \n",
    "    test_indices = indices[:test_end]\n",
    "    validation_indices = indices[test_end:validation_end]\n",
    "    train_indices = indices[validation_end:]\n",
    "    return train_indices, validation_indices, test_indices\n",
    "\n",
    "def split_data_with_indices(processed_data, train_indices, validation_indices, test_indices, target_col_indices):\n",
    "    \"\"\"\n",
    "    Split data into training, validation, and testing sets using provided indices and multiple target columns.\n",
    "    \"\"\"\n",
    "    # Extract features from all timesteps except the last one for the training set\n",
    "    X_train = processed_data[train_indices, :-1, :]\n",
    "    \n",
    "    # Targets are from the last timestep of each sequence for the specified target columns for the training set\n",
    "    y_train = processed_data[train_indices][:, -1, :][:, target_col_indices]\n",
    "    \n",
    "    # Perform similar operations for validation and test sets\n",
    "    X_validation = processed_data[validation_indices, :-1, :]\n",
    "    y_validation = processed_data[validation_indices][:, -1, :][:, target_col_indices]\n",
    "    \n",
    "    X_test = processed_data[test_indices, :-1, :]\n",
    "    y_test = processed_data[test_indices][:, -1, :][:, target_col_indices]\n",
    "\n",
    "    return X_train, X_validation, X_test, y_train, y_validation, y_test\n",
    "\n",
    "# Assuming processed_data is a numpy array with the shape mentioned earlier\n",
    "# Assuming you've already defined test_size and validation_size\n",
    "\n",
    "# Create split indices based on the total number of sequences\n",
    "total_sequences = processed_data.shape[0]\n",
    "train_indices, validation_indices, test_indices = create_split_indices(\n",
    "    total_samples=total_sequences,\n",
    "    test_size=0.10,\n",
    "    validation_size=0.15\n",
    ")\n",
    "\n",
    "# Assuming target_col_indices = [0, 1] because 'wert' is at index 0 and 'temp' is at index 1\n",
    "target_col_indices = [0,1]\n",
    "\n",
    "# Split the data using the indices\n",
    "X_real_train, X_real_validation, X_real_test, y_real_train, y_real_validation, y_real_test = split_data_with_indices(\n",
    "    processed_data=processed_data,\n",
    "    train_indices=train_indices,\n",
    "    validation_indices=validation_indices,\n",
    "    test_indices=test_indices,\n",
    "    target_col_indices=target_col_indices\n",
    ")\n",
    "\n",
    "X_synth_train, X_synth_validation, X_synth_test, y_synth_train, y_synth_validation, y_synth_test = split_data_with_indices(\n",
    "    processed_data=syntheitc_data,\n",
    "    train_indices=train_indices,\n",
    "    validation_indices=validation_indices,\n",
    "    test_indices=test_indices,\n",
    "    target_col_indices=target_col_indices\n",
    ")\n",
    "\n"
   ]
  },
  {
   "cell_type": "code",
   "execution_count": 0,
   "metadata": {
    "application/vnd.databricks.v1+cell": {
     "cellMetadata": {},
     "inputWidgets": {},
     "nuid": "e9eb4886-1f0c-4837-ad22-6650c83fbd6c",
     "showTitle": false,
     "title": ""
    },
    "nteract": {
     "transient": {
      "deleting": false
     }
    }
   },
   "outputs": [
    {
     "output_type": "display_data",
     "data": {
      "application/vnd.livy.statement-meta+json": {
       "execution_finish_time": "2024-03-19T20:18:25.731181Z",
       "execution_start_time": "2024-03-19T20:18:25.3960778Z",
       "livy_statement_state": "available",
       "parent_msg_id": "69460223-d001-4e7d-b4fc-120c042143b5",
       "queued_time": "2024-03-19T19:29:59.9909297Z",
       "session_id": "f5af308f-1c3d-48b7-b37e-6b100cb697b1",
       "session_start_time": null,
       "spark_pool": null,
       "state": "finished",
       "statement_id": 74
      },
      "text/plain": [
       "StatementMeta(, f5af308f-1c3d-48b7-b37e-6b100cb697b1, 74, Finished, Available)"
      ]
     },
     "metadata": {},
     "output_type": "display_data"
    }
   ],
   "source": [
    "early_stopping = EarlyStopping(monitor='val_loss', patience=5, restore_best_weights=True)"
   ]
  },
  {
   "cell_type": "code",
   "execution_count": 0,
   "metadata": {
    "application/vnd.databricks.v1+cell": {
     "cellMetadata": {},
     "inputWidgets": {},
     "nuid": "84b51478-7a0b-4b22-9ec1-1e270e2ffb86",
     "showTitle": false,
     "title": ""
    },
    "nteract": {
     "transient": {
      "deleting": false
     }
    }
   },
   "outputs": [
    {
     "output_type": "display_data",
     "data": {
      "application/vnd.livy.statement-meta+json": {
       "execution_finish_time": "2024-03-19T20:18:31.8495773Z",
       "execution_start_time": "2024-03-19T20:18:31.8494422Z",
       "livy_statement_state": "available",
       "parent_msg_id": "1b882d4a-4df2-4902-a56c-5210b11d6381",
       "queued_time": "2024-03-19T19:30:00.0881162Z",
       "session_id": null,
       "session_start_time": null,
       "spark_pool": null,
       "state": "finished",
       "statement_id": -1
      },
      "text/plain": [
       "StatementMeta(, , -1, Finished, Available)"
      ]
     },
     "metadata": {},
     "output_type": "display_data"
    }
   ],
   "source": [
    "%run models_func"
   ]
  },
  {
   "cell_type": "code",
   "execution_count": 0,
   "metadata": {
    "application/vnd.databricks.v1+cell": {
     "cellMetadata": {},
     "inputWidgets": {},
     "nuid": "28e69760-4dcc-4952-8f95-05848c69151a",
     "showTitle": false,
     "title": ""
    },
    "nteract": {
     "transient": {
      "deleting": false
     }
    }
   },
   "outputs": [
    {
     "output_type": "display_data",
     "data": {
      "application/vnd.livy.statement-meta+json": {
       "execution_finish_time": "2024-03-19T20:19:16.0722687Z",
       "execution_start_time": "2024-03-19T20:18:32.331479Z",
       "livy_statement_state": "available",
       "parent_msg_id": "8491b9d2-75d8-437f-aea3-8c81cade3457",
       "queued_time": "2024-03-19T19:30:00.1835804Z",
       "session_id": "f5af308f-1c3d-48b7-b37e-6b100cb697b1",
       "session_start_time": null,
       "spark_pool": null,
       "state": "finished",
       "statement_id": 84
      },
      "text/plain": [
       "StatementMeta(, f5af308f-1c3d-48b7-b37e-6b100cb697b1, 84, Finished, Available)"
      ]
     },
     "metadata": {},
     "output_type": "display_data"
    },
    {
     "output_type": "stream",
     "name": "stderr",
     "output_type": "stream",
     "text": [
      "2024-03-19:20:18:33,764 WARNING  [tracking_store.py:153] log_inputs not supported\n2024-03-19:20:18:33,765 WARNING  [tracking_store.py:153] log_inputs not supported\n"
     ]
    },
    {
     "output_type": "stream",
     "name": "stdout",
     "output_type": "stream",
     "text": [
      "Epoch 1/100\n 1/52 [..............................] - ETA: 1:23 - loss: 0.4090WARNING:tensorflow:Callback method `on_train_batch_end` is slow compared to the batch time (batch time: 0.0045s vs `on_train_batch_end` time: 0.0070s). Check your callbacks.\nCallback method `on_train_batch_end` is slow compared to the batch time (batch time: 0.0045s vs `on_train_batch_end` time: 0.0070s). Check your callbacks.\n52/52 [==============================] - 5s 64ms/step - loss: 0.2645 - val_loss: 0.1530\b\b\b\b\b\b\b\b\b\b\b\b\b\b\b\b\b\b\b\b\b\b\b\b\b\b\b\b\b\b\b\b\b\b\b\b\b\b\b\b\b\nEpoch 2/100\n52/52 [==============================] - 0s 6ms/step - loss: 0.1342 - val_loss: 0.1020\b\b\b\b\b\b\b\b\b\b\b\b\b\b\b\b\b\b\b\b\b\b\b\b\b\b\b\b\b\b\b\b\b\b\b\b\b\b\b\b\nEpoch 3/100\n52/52 [==============================] - 0s 5ms/step - loss: 0.1030 - val_loss: 0.0848\b\b\b\b\b\b\b\b\b\b\b\b\b\b\b\b\b\b\b\b\b\b\b\b\b\b\b\b\b\b\b\b\b\b\b\b\b\b\b\b\nEpoch 4/100\n52/52 [==============================] - 0s 5ms/step - loss: 0.0921 - val_loss: 0.0804\b\b\b\b\b\b\b\b\b\b\b\b\b\b\b\b\b\b\b\b\b\b\b\b\b\b\b\b\b\b\b\b\b\b\b\b\b\b\b\b\nEpoch 5/100\n52/52 [==============================] - 0s 5ms/step - loss: 0.0884 - val_loss: 0.0796\b\b\b\b\b\b\b\b\b\b\b\b\b\b\b\b\b\b\b\b\b\b\b\b\b\b\b\b\b\b\b\b\b\b\b\b\b\b\b\b\nEpoch 6/100\n52/52 [==============================] - 0s 5ms/step - loss: 0.0852 - val_loss: 0.0793\b\b\b\b\b\b\b\b\b\b\b\b\b\b\b\b\b\b\b\b\b\b\b\b\b\b\b\b\b\b\b\b\b\b\b\b\b\b\b\b\nEpoch 7/100\n52/52 [==============================] - 0s 5ms/step - loss: 0.0837 - val_loss: 0.0789\b\b\b\b\b\b\b\b\b\b\b\b\b\b\b\b\b\b\b\b\b\b\b\b\b\b\b\b\b\b\b\b\b\b\b\b\b\b\b\b\nEpoch 8/100\n52/52 [==============================] - 0s 5ms/step - loss: 0.0836 - val_loss: 0.0786\b\b\b\b\b\b\b\b\b\b\b\b\b\b\b\b\b\b\b\b\b\b\b\b\b\b\b\b\b\b\b\b\b\b\b\b\b\b\b\b\nEpoch 9/100\n52/52 [==============================] - 0s 5ms/step - loss: 0.0822 - val_loss: 0.0782\b\b\b\b\b\b\b\b\b\b\b\b\b\b\b\b\b\b\b\b\b\b\b\b\b\b\b\b\b\b\b\b\b\b\b\b\b\b\b\b\nEpoch 10/100\n52/52 [==============================] - 0s 5ms/step - loss: 0.0812 - val_loss: 0.0767\b\b\b\b\b\b\b\b\b\b\b\b\b\b\b\b\b\b\b\b\b\b\b\b\b\b\b\b\b\b\b\b\b\b\b\b\b\b\b\b\nEpoch 11/100\n52/52 [==============================] - 0s 5ms/step - loss: 0.0804 - val_loss: 0.0768\b\b\b\b\b\b\b\b\b\b\b\b\b\b\b\b\b\b\b\b\b\b\b\b\b\b\b\b\b\b\b\b\b\b\b\b\b\b\b\b\nEpoch 12/100\n52/52 [==============================] - 0s 5ms/step - loss: 0.0790 - val_loss: 0.0757\b\b\b\b\b\b\b\b\b\b\b\b\b\b\b\b\b\b\b\b\b\b\b\b\b\b\b\b\b\b\b\b\b\b\b\b\b\b\b\b\nEpoch 13/100\n52/52 [==============================] - 0s 5ms/step - loss: 0.0786 - val_loss: 0.0752\b\b\b\b\b\b\b\b\b\b\b\b\b\b\b\b\b\b\b\b\b\b\b\b\b\b\b\b\b\b\b\b\b\b\b\b\b\b\b\b\nEpoch 14/100\n52/52 [==============================] - 0s 6ms/step - loss: 0.0776 - val_loss: 0.0739\b\b\b\b\b\b\b\b\b\b\b\b\b\b\b\b\b\b\b\b\b\b\b\b\b\b\b\b\b\b\b\b\b\b\b\b\b\b\b\b\nEpoch 15/100\n52/52 [==============================] - 0s 5ms/step - loss: 0.0768 - val_loss: 0.0731\b\b\b\b\b\b\b\b\b\b\b\b\b\b\b\b\b\b\b\b\b\b\b\b\b\b\b\b\b\b\b\b\b\b\b\b\b\b\b\b\nEpoch 16/100\n52/52 [==============================] - 0s 5ms/step - loss: 0.0764 - val_loss: 0.0725\b\b\b\b\b\b\b\b\b\b\b\b\b\b\b\b\b\b\b\b\b\b\b\b\b\b\b\b\b\b\b\b\b\b\b\b\b\b\b\b\nEpoch 17/100\n52/52 [==============================] - 0s 5ms/step - loss: 0.0749 - val_loss: 0.0709\b\b\b\b\b\b\b\b\b\b\b\b\b\b\b\b\b\b\b\b\b\b\b\b\b\b\b\b\b\b\b\b\b\b\b\b\b\b\b\b\nEpoch 18/100\n52/52 [==============================] - 0s 6ms/step - loss: 0.0735 - val_loss: 0.0690\b\b\b\b\b\b\b\b\b\b\b\b\b\b\b\b\b\b\b\b\b\b\b\b\b\b\b\b\b\b\b\b\b\b\b\b\b\b\b\b\nEpoch 19/100\n52/52 [==============================] - 0s 5ms/step - loss: 0.0720 - val_loss: 0.0667\b\b\b\b\b\b\b\b\b\b\b\b\b\b\b\b\b\b\b\b\b\b\b\b\b\b\b\b\b\b\b\b\b\b\b\b\b\b\b\b\nEpoch 20/100\n52/52 [==============================] - 0s 5ms/step - loss: 0.0718 - val_loss: 0.0662\b\b\b\b\b\b\b\b\b\b\b\b\b\b\b\b\b\b\b\b\b\b\b\b\b\b\b\b\b\b\b\b\b\b\b\b\b\b\b\b\nEpoch 21/100\n52/52 [==============================] - 0s 5ms/step - loss: 0.0702 - val_loss: 0.0643\b\b\b\b\b\b\b\b\b\b\b\b\b\b\b\b\b\b\b\b\b\b\b\b\b\b\b\b\b\b\b\b\b\b\b\b\b\b\b\b\nEpoch 22/100\n52/52 [==============================] - 0s 5ms/step - loss: 0.0691 - val_loss: 0.0622\b\b\b\b\b\b\b\b\b\b\b\b\b\b\b\b\b\b\b\b\b\b\b\b\b\b\b\b\b\b\b\b\b\b\b\b\b\b\b\b\nEpoch 23/100\n52/52 [==============================] - 0s 6ms/step - loss: 0.0679 - val_loss: 0.0608\b\b\b\b\b\b\b\b\b\b\b\b\b\b\b\b\b\b\b\b\b\b\b\b\b\b\b\b\b\b\b\b\b\b\b\b\b\b\b\b\nEpoch 24/100\n52/52 [==============================] - 0s 5ms/step - loss: 0.0673 - val_loss: 0.0605\b\b\b\b\b\b\b\b\b\b\b\b\b\b\b\b\b\b\b\b\b\b\b\b\b\b\b\b\b\b\b\b\b\b\b\b\b\b\b\b\nEpoch 25/100\n52/52 [==============================] - 0s 6ms/step - loss: 0.0675 - val_loss: 0.0594\b\b\b\b\b\b\b\b\b\b\b\b\b\b\b\b\b\b\b\b\b\b\b\b\b\b\b\b\b\b\b\b\b\b\b\b\b\b\b\b\nEpoch 26/100\n52/52 [==============================] - 0s 5ms/step - loss: 0.0661 - val_loss: 0.0575\b\b\b\b\b\b\b\b\b\b\b\b\b\b\b\b\b\b\b\b\b\b\b\b\b\b\b\b\b\b\b\b\b\b\b\b\b\b\b\b\nEpoch 27/100\n52/52 [==============================] - 0s 5ms/step - loss: 0.0663 - val_loss: 0.0577\b\b\b\b\b\b\b\b\b\b\b\b\b\b\b\b\b\b\b\b\b\b\b\b\b\b\b\b\b\b\b\b\b\b\b\b\b\b\b\b\nEpoch 28/100\n52/52 [==============================] - 0s 5ms/step - loss: 0.0657 - val_loss: 0.0565\b\b\b\b\b\b\b\b\b\b\b\b\b\b\b\b\b\b\b\b\b\b\b\b\b\b\b\b\b\b\b\b\b\b\b\b\b\b\b\b\nEpoch 29/100\n52/52 [==============================] - 0s 5ms/step - loss: 0.0651 - val_loss: 0.0560\b\b\b\b\b\b\b\b\b\b\b\b\b\b\b\b\b\b\b\b\b\b\b\b\b\b\b\b\b\b\b\b\b\b\b\b\b\b\b\b\nEpoch 30/100\n52/52 [==============================] - 0s 6ms/step - loss: 0.0653 - val_loss: 0.0560\b\b\b\b\b\b\b\b\b\b\b\b\b\b\b\b\b\b\b\b\b\b\b\b\b\b\b\b\b\b\b\b\b\b\b\b\b\b\b\b\nEpoch 31/100\n52/52 [==============================] - 0s 5ms/step - loss: 0.0647 - val_loss: 0.0564\b\b\b\b\b\b\b\b\b\b\b\b\b\b\b\b\b\b\b\b\b\b\b\b\b\b\b\b\b\b\b\b\b\b\b\b\b\b\b\b\nEpoch 32/100\n52/52 [==============================] - 0s 5ms/step - loss: 0.0634 - val_loss: 0.0554\b\b\b\b\b\b\b\b\b\b\b\b\b\b\b\b\b\b\b\b\b\b\b\b\b\b\b\b\b\b\b\b\b\b\b\b\b\b\b\b\nEpoch 33/100\n52/52 [==============================] - 0s 5ms/step - loss: 0.0633 - val_loss: 0.0551\b\b\b\b\b\b\b\b\b\b\b\b\b\b\b\b\b\b\b\b\b\b\b\b\b\b\b\b\b\b\b\b\b\b\b\b\b\b\b\b\nEpoch 34/100\n52/52 [==============================] - 0s 5ms/step - loss: 0.0626 - val_loss: 0.0537\b\b\b\b\b\b\b\b\b\b\b\b\b\b\b\b\b\b\b\b\b\b\b\b\b\b\b\b\b\b\b\b\b\b\b\b\b\b\b\b\nEpoch 35/100\n52/52 [==============================] - 0s 5ms/step - loss: 0.0629 - val_loss: 0.0530\b\b\b\b\b\b\b\b\b\b\b\b\b\b\b\b\b\b\b\b\b\b\b\b\b\b\b\b\b\b\b\b\b\b\b\b\b\b\b\b\nEpoch 36/100\n52/52 [==============================] - 0s 5ms/step - loss: 0.0621 - val_loss: 0.0534\b\b\b\b\b\b\b\b\b\b\b\b\b\b\b\b\b\b\b\b\b\b\b\b\b\b\b\b\b\b\b\b\b\b\b\b\b\b\b\b\nEpoch 37/100\n52/52 [==============================] - 0s 5ms/step - loss: 0.0624 - val_loss: 0.0526\b\b\b\b\b\b\b\b\b\b\b\b\b\b\b\b\b\b\b\b\b\b\b\b\b\b\b\b\b\b\b\b\b\b\b\b\b\b\b\b\nEpoch 38/100\n52/52 [==============================] - 0s 5ms/step - loss: 0.0625 - val_loss: 0.0526\b\b\b\b\b\b\b\b\b\b\b\b\b\b\b\b\b\b\b\b\b\b\b\b\b\b\b\b\b\b\b\b\b\b\b\b\b\b\b\b\nEpoch 39/100\n52/52 [==============================] - 0s 5ms/step - loss: 0.0618 - val_loss: 0.0518\b\b\b\b\b\b\b\b\b\b\b\b\b\b\b\b\b\b\b\b\b\b\b\b\b\b\b\b\b\b\b\b\b\b\b\b\b\b\b\b\nEpoch 40/100\n52/52 [==============================] - 0s 5ms/step - loss: 0.0603 - val_loss: 0.0517\b\b\b\b\b\b\b\b\b\b\b\b\b\b\b\b\b\b\b\b\b\b\b\b\b\b\b\b\b\b\b\b\b\b\b\b\b\b\b\b\nEpoch 41/100\n52/52 [==============================] - 0s 5ms/step - loss: 0.0620 - val_loss: 0.0524\b\b\b\b\b\b\b\b\b\b\b\b\b\b\b\b\b\b\b\b\b\b\b\b\b\b\b\b\b\b\b\b\b\b\b\b\b\b\b\b\nEpoch 42/100\n52/52 [==============================] - 0s 5ms/step - loss: 0.0610 - val_loss: 0.0525\b\b\b\b\b\b\b\b\b\b\b\b\b\b\b\b\b\b\b\b\b\b\b\b\b\b\b\b\b\b\b\b\b\b\b\b\b\b\b\b\nEpoch 43/100\n52/52 [==============================] - 1s 15ms/step - loss: 0.0614 - val_loss: 0.0517\b\b\b\b\b\b\b\b\b\b\b\b\b\b\b\b\b\b\b\b\b\b\b\b\b\b\b\b\b\b\b\b\b\b\b\b\b\b\b\nEpoch 44/100\n52/52 [==============================] - 0s 5ms/step - loss: 0.0610 - val_loss: 0.0521\b\b\b\b\b\b\b\b\b\b\b\b\b\b\b\b\b\b\b\b\b\b\b\b\b\b\b\b\b\b\b\b\b\b\b\b\b\b\b\b\nEpoch 45/100\n52/52 [==============================] - 0s 5ms/step - loss: 0.0611 - val_loss: 0.0509\b\b\b\b\b\b\b\b\b\b\b\b\b\b\b\b\b\b\b\b\b\b\b\b\b\b\b\b\b\b\b\b\b\b\b\b\b\b\b\b\nEpoch 46/100\n52/52 [==============================] - 0s 5ms/step - loss: 0.0603 - val_loss: 0.0520\b\b\b\b\b\b\b\b\b\b\b\b\b\b\b\b\b\b\b\b\b\b\b\b\b\b\b\b\b\b\b\b\b\b\b\b\b\b\b\b\nEpoch 47/100\n52/52 [==============================] - 0s 5ms/step - loss: 0.0605 - val_loss: 0.0510\b\b\b\b\b\b\b\b\b\b\b\b\b\b\b\b\b\b\b\b\b\b\b\b\b\b\b\b\b\b\b\b\b\b\b\b\b\b\b\b\nEpoch 48/100\n52/52 [==============================] - 0s 5ms/step - loss: 0.0603 - val_loss: 0.0516\b\b\b\b\b\b\b\b\b\b\b\b\b\b\b\b\b\b\b\b\b\b\b\b\b\b\b\b\b\b\b\b\b\b\b\b\b\b\b\b\nEpoch 49/100\n52/52 [==============================] - 0s 5ms/step - loss: 0.0602 - val_loss: 0.0510\b\b\b\b\b\b\b\b\b\b\b\b\b\b\b\b\b\b\b\b\b\b\b\b\b\b\b\b\b\b\b\b\b\b\b\b\b\b\b\b\nEpoch 50/100\n52/52 [==============================] - 0s 5ms/step - loss: 0.0598 - val_loss: 0.0503\b\b\b\b\b\b\b\b\b\b\b\b\b\b\b\b\b\b\b\b\b\b\b\b\b\b\b\b\b\b\b\b\b\b\b\b\b\b\b\b\nEpoch 51/100\n52/52 [==============================] - 0s 5ms/step - loss: 0.0600 - val_loss: 0.0515\b\b\b\b\b\b\b\b\b\b\b\b\b\b\b\b\b\b\b\b\b\b\b\b\b\b\b\b\b\b\b\b\b\b\b\b\b\b\b\b\nEpoch 52/100\n52/52 [==============================] - 0s 5ms/step - loss: 0.0598 - val_loss: 0.0496\b\b\b\b\b\b\b\b\b\b\b\b\b\b\b\b\b\b\b\b\b\b\b\b\b\b\b\b\b\b\b\b\b\b\b\b\b\b\b\b\nEpoch 53/100\n52/52 [==============================] - 0s 5ms/step - loss: 0.0597 - val_loss: 0.0504\b\b\b\b\b\b\b\b\b\b\b\b\b\b\b\b\b\b\b\b\b\b\b\b\b\b\b\b\b\b\b\b\b\b\b\b\b\b\b\b\nEpoch 54/100\n52/52 [==============================] - 0s 5ms/step - loss: 0.0598 - val_loss: 0.0495\b\b\b\b\b\b\b\b\b\b\b\b\b\b\b\b\b\b\b\b\b\b\b\b\b\b\b\b\b\b\b\b\b\b\b\b\b\b\b\b\nEpoch 55/100\n52/52 [==============================] - 0s 5ms/step - loss: 0.0593 - val_loss: 0.0498\b\b\b\b\b\b\b\b\b\b\b\b\b\b\b\b\b\b\b\b\b\b\b\b\b\b\b\b\b\b\b\b\b\b\b\b\b\b\b\b\nEpoch 56/100\n52/52 [==============================] - 0s 5ms/step - loss: 0.0593 - val_loss: 0.0507\b\b\b\b\b\b\b\b\b\b\b\b\b\b\b\b\b\b\b\b\b\b\b\b\b\b\b\b\b\b\b\b\b\b\b\b\b\b\b\b\nEpoch 57/100\n52/52 [==============================] - 0s 5ms/step - loss: 0.0590 - val_loss: 0.0494\b\b\b\b\b\b\b\b\b\b\b\b\b\b\b\b\b\b\b\b\b\b\b\b\b\b\b\b\b\b\b\b\b\b\b\b\b\b\b\b\nEpoch 58/100\n52/52 [==============================] - 0s 5ms/step - loss: 0.0588 - val_loss: 0.0497\b\b\b\b\b\b\b\b\b\b\b\b\b\b\b\b\b\b\b\b\b\b\b\b\b\b\b\b\b\b\b\b\b\b\b\b\b\b\b\b\nEpoch 59/100\n52/52 [==============================] - 0s 6ms/step - loss: 0.0584 - val_loss: 0.0493\b\b\b\b\b\b\b\b\b\b\b\b\b\b\b\b\b\b\b\b\b\b\b\b\b\b\b\b\b\b\b\b\b\b\b\b\b\b\b\b\nEpoch 60/100\n52/52 [==============================] - 1s 15ms/step - loss: 0.0588 - val_loss: 0.0486\b\b\b\b\b\b\b\b\b\b\b\b\b\b\b\b\b\b\b\b\b\b\b\b\b\b\b\b\b\b\b\b\b\b\b\b\b\b\b\nEpoch 61/100\n52/52 [==============================] - 0s 5ms/step - loss: 0.0583 - val_loss: 0.0497\b\b\b\b\b\b\b\b\b\b\b\b\b\b\b\b\b\b\b\b\b\b\b\b\b\b\b\b\b\b\b\b\b\b\b\b\b\b\b\b\nEpoch 62/100\n52/52 [==============================] - 0s 5ms/step - loss: 0.0582 - val_loss: 0.0495\b\b\b\b\b\b\b\b\b\b\b\b\b\b\b\b\b\b\b\b\b\b\b\b\b\b\b\b\b\b\b\b\b\b\b\b\b\b\b\b\nEpoch 63/100\n52/52 [==============================] - 0s 5ms/step - loss: 0.0583 - val_loss: 0.0484\b\b\b\b\b\b\b\b\b\b\b\b\b\b\b\b\b\b\b\b\b\b\b\b\b\b\b\b\b\b\b\b\b\b\b\b\b\b\b\b\nEpoch 64/100\n52/52 [==============================] - 0s 5ms/step - loss: 0.0580 - val_loss: 0.0491\b\b\b\b\b\b\b\b\b\b\b\b\b\b\b\b\b\b\b\b\b\b\b\b\b\b\b\b\b\b\b\b\b\b\b\b\b\b\b\b\nEpoch 65/100\n52/52 [==============================] - 0s 5ms/step - loss: 0.0577 - val_loss: 0.0474\b\b\b\b\b\b\b\b\b\b\b\b\b\b\b\b\b\b\b\b\b\b\b\b\b\b\b\b\b\b\b\b\b\b\b\b\b\b\b\b\nEpoch 66/100\n52/52 [==============================] - 0s 5ms/step - loss: 0.0577 - val_loss: 0.0487\b\b\b\b\b\b\b\b\b\b\b\b\b\b\b\b\b\b\b\b\b\b\b\b\b\b\b\b\b\b\b\b\b\b\b\b\b\b\b\b\nEpoch 67/100\n52/52 [==============================] - 0s 5ms/step - loss: 0.0578 - val_loss: 0.0475\b\b\b\b\b\b\b\b\b\b\b\b\b\b\b\b\b\b\b\b\b\b\b\b\b\b\b\b\b\b\b\b\b\b\b\b\b\b\b\b\nEpoch 68/100\n52/52 [==============================] - 0s 5ms/step - loss: 0.0572 - val_loss: 0.0477\b\b\b\b\b\b\b\b\b\b\b\b\b\b\b\b\b\b\b\b\b\b\b\b\b\b\b\b\b\b\b\b\b\b\b\b\b\b\b\b\nEpoch 69/100\n52/52 [==============================] - 0s 5ms/step - loss: 0.0572 - val_loss: 0.0466\b\b\b\b\b\b\b\b\b\b\b\b\b\b\b\b\b\b\b\b\b\b\b\b\b\b\b\b\b\b\b\b\b\b\b\b\b\b\b\b\nEpoch 70/100\n52/52 [==============================] - 0s 5ms/step - loss: 0.0572 - val_loss: 0.0479\b\b\b\b\b\b\b\b\b\b\b\b\b\b\b\b\b\b\b\b\b\b\b\b\b\b\b\b\b\b\b\b\b\b\b\b\b\b\b\b\nEpoch 71/100\n52/52 [==============================] - 0s 5ms/step - loss: 0.0567 - val_loss: 0.0470\b\b\b\b\b\b\b\b\b\b\b\b\b\b\b\b\b\b\b\b\b\b\b\b\b\b\b\b\b\b\b\b\b\b\b\b\b\b\b\b\nEpoch 72/100\n52/52 [==============================] - 0s 5ms/step - loss: 0.0567 - val_loss: 0.0472\b\b\b\b\b\b\b\b\b\b\b\b\b\b\b\b\b\b\b\b\b\b\b\b\b\b\b\b\b\b\b\b\b\b\b\b\b\b\b\b\nEpoch 73/100\n52/52 [==============================] - 0s 5ms/step - loss: 0.0572 - val_loss: 0.0466\b\b\b\b\b\b\b\b\b\b\b\b\b\b\b\b\b\b\b\b\b\b\b\b\b\b\b\b\b\b\b\b\b\b\b\b\b\b\b\b\nEpoch 74/100\n52/52 [==============================] - 0s 5ms/step - loss: 0.0564 - val_loss: 0.0470\b\b\b\b\b\b\b\b\b\b\b\b\b\b\b\b\b\b\b\b\b\b\b\b\b\b\b\b\b\b\b\b\b\b\b\b\b\b\b\b\n1/1 [==============================] - 0s 330ms/step\b\b\b\b\b\b\b\b\b\b\b\b\b\b\b\b\b\b\b\b\b\b\b\b\b\b\b\b\b\b\b\b\b\b\b\b\b\b\b\b\nFound untraced functions such as _jit_compiled_convolution_op, _jit_compiled_convolution_op, _update_step_xla, gru_cell_31_layer_call_fn, gru_cell_31_layer_call_and_return_conditional_losses while saving (showing 5 of 5). These functions will not be directly callable after loading.\nINFO:tensorflow:Assets written to: /tmp/tmpgr2cd7mv/model/data/model/assets\nAssets written to: /tmp/tmpgr2cd7mv/model/data/model/assets\n"
     ]
    },
    {
     "output_type": "display_data",
     "data": {
      "application/vnd.mlflow.run-widget+json": {
       "data": {
        "metrics": {
         "loss": 0.057238396257162094,
         "restored_epoch": 68,
         "stopped_epoch": 73,
         "val_loss": 0.046570904552936554
        },
        "params": {
         "baseline": "None",
         "batch_size": "128",
         "class_weight": "None",
         "epochs": "100",
         "initial_epoch": "0",
         "max_queue_size": "10",
         "min_delta": "0",
         "monitor": "val_loss",
         "opt_amsgrad": "False",
         "opt_beta_1": "0.9",
         "opt_beta_2": "0.999",
         "opt_clipnorm": "None",
         "opt_clipvalue": "None",
         "opt_ema_momentum": "0.99",
         "opt_ema_overwrite_frequency": "None",
         "opt_epsilon": "1e-07",
         "opt_global_clipnorm": "None",
         "opt_is_legacy_optimizer": "False",
         "opt_jit_compile": "False",
         "opt_learning_rate": "0.001",
         "opt_name": "Adam",
         "opt_use_ema": "False",
         "opt_weight_decay": "None",
         "patience": "5",
         "restore_best_weights": "True",
         "sample_weight": "None",
         "shuffle": "True",
         "steps_per_epoch": "None",
         "use_multiprocessing": "False",
         "validation_batch_size": "None",
         "validation_freq": "1",
         "validation_split": "0.0",
         "validation_steps": "None",
         "workers": "1"
        },
        "tags": {
         "mlflow.autologging": "tensorflow",
         "mlflow.rootRunId": "481bf003-e5bc-43fa-a077-b1a05efc0a8c",
         "mlflow.runName": "quirky_parcel_00dk07r2",
         "mlflow.user": "9b1bccca-b0b3-4fcf-9df5-fdeabefe9450",
         "synapseml.experiment.artifactId": "578c1031-2e79-44a8-ac2a-0f203892a83f",
         "synapseml.experimentName": "Notebook-4",
         "synapseml.livy.id": "f5af308f-1c3d-48b7-b37e-6b100cb697b1",
         "synapseml.notebook.artifactId": "28ef94a2-a27e-47ff-9b13-047b5ba72745",
         "synapseml.user.id": "f3b721d6-0d9a-4330-b94f-9316fd0dd9b0",
         "synapseml.user.name": "Ines Alexandra Artero Philipsen"
        }
       },
       "info": {
        "artifact_uri": "sds://onelakenortheurope.pbidedicated.windows.net/21f5720d-4372-435c-a5bb-385b7e99345d/578c1031-2e79-44a8-ac2a-0f203892a83f/481bf003-e5bc-43fa-a077-b1a05efc0a8c/artifacts",
        "end_time": 1710879553,
        "experiment_id": "9fc0b505-14d4-498d-9389-4c832ac2a437",
        "lifecycle_stage": "active",
        "run_id": "481bf003-e5bc-43fa-a077-b1a05efc0a8c",
        "run_name": "",
        "run_uuid": "481bf003-e5bc-43fa-a077-b1a05efc0a8c",
        "start_time": 1710879512,
        "status": "FINISHED",
        "user_id": "47b4be73-4385-4eda-a752-da9a9fee5a71"
       },
       "inputs": {
        "dataset_inputs": []
       }
      }
     },
     "metadata": {},
     "output_type": "display_data"
    }
   ],
   "source": [
    "#Initialize the model\n",
    "seq_len = 24\n",
    "timesteps = seq_len - 1\n",
    "units = 2\n",
    "feature_n = 2\n",
    "\n",
    "real_model = CNN_GRU_regression(timesteps, feature_n, units)\n",
    "\n",
    "#Train the model on real\n",
    "\n",
    "history = real_model.fit(\n",
    "    X_real_train, y_real_train,\n",
    "    validation_data=(X_real_validation, y_real_validation),\n",
    "    epochs=100,  # Adjust the number of epochs as needed\n",
    "    batch_size=128,  # Adjust the batch size as needed\n",
    "    callbacks=[early_stopping]\n",
    ")\n"
   ]
  },
  {
   "cell_type": "code",
   "execution_count": 0,
   "metadata": {
    "application/vnd.databricks.v1+cell": {
     "cellMetadata": {},
     "inputWidgets": {},
     "nuid": "8dc1ec3f-021e-4388-b7d7-907c12132c2b",
     "showTitle": false,
     "title": ""
    },
    "nteract": {
     "transient": {
      "deleting": false
     }
    }
   },
   "outputs": [
    {
     "output_type": "display_data",
     "data": {
      "application/vnd.livy.statement-meta+json": {
       "execution_finish_time": "2024-03-19T20:19:37.6392805Z",
       "execution_start_time": "2024-03-19T20:19:16.519914Z",
       "livy_statement_state": "available",
       "parent_msg_id": "4a1c940e-d39b-4cb3-b75f-24662ea680a4",
       "queued_time": "2024-03-19T19:30:00.2895516Z",
       "session_id": "f5af308f-1c3d-48b7-b37e-6b100cb697b1",
       "session_start_time": null,
       "spark_pool": null,
       "state": "finished",
       "statement_id": 85
      },
      "text/plain": [
       "StatementMeta(, f5af308f-1c3d-48b7-b37e-6b100cb697b1, 85, Finished, Available)"
      ]
     },
     "metadata": {},
     "output_type": "display_data"
    },
    {
     "output_type": "stream",
     "name": "stderr",
     "output_type": "stream",
     "text": [
      "2024-03-19:20:19:17,294 WARNING  [tracking_store.py:153] log_inputs not supported\n2024-03-19:20:19:17,295 WARNING  [tracking_store.py:153] log_inputs not supported\n"
     ]
    },
    {
     "output_type": "stream",
     "name": "stdout",
     "output_type": "stream",
     "text": [
      "Epoch 1/100\n 1/52 [..............................] - ETA: 1:22 - loss: 0.4547WARNING:tensorflow:Callback method `on_train_batch_end` is slow compared to the batch time (batch time: 0.0046s vs `on_train_batch_end` time: 0.0070s). Check your callbacks.\nCallback method `on_train_batch_end` is slow compared to the batch time (batch time: 0.0046s vs `on_train_batch_end` time: 0.0070s). Check your callbacks.\n52/52 [==============================] - 3s 25ms/step - loss: 0.3075 - val_loss: 0.2167\b\b\b\b\b\b\b\b\b\b\b\b\b\b\b\b\b\b\b\b\b\b\b\b\b\b\b\b\b\b\b\b\b\b\b\b\b\b\b\b\b\nEpoch 2/100\n52/52 [==============================] - 0s 5ms/step - loss: 0.1552 - val_loss: 0.1531\b\b\b\b\b\b\b\b\b\b\b\b\b\b\b\b\b\b\b\b\b\b\b\b\b\b\b\b\b\b\b\b\b\b\b\b\b\b\b\b\nEpoch 3/100\n52/52 [==============================] - 0s 5ms/step - loss: 0.1412 - val_loss: 0.1514\b\b\b\b\b\b\b\b\b\b\b\b\b\b\b\b\b\b\b\b\b\b\b\b\b\b\b\b\b\b\b\b\b\b\b\b\b\b\b\b\nEpoch 4/100\n52/52 [==============================] - 0s 5ms/step - loss: 0.1386 - val_loss: 0.1525\b\b\b\b\b\b\b\b\b\b\b\b\b\b\b\b\b\b\b\b\b\b\b\b\b\b\b\b\b\b\b\b\b\b\b\b\b\b\b\b\nEpoch 5/100\n52/52 [==============================] - 0s 5ms/step - loss: 0.1378 - val_loss: 0.1521\b\b\b\b\b\b\b\b\b\b\b\b\b\b\b\b\b\b\b\b\b\b\b\b\b\b\b\b\b\b\b\b\b\b\b\b\b\b\b\b\nEpoch 6/100\n52/52 [==============================] - 0s 5ms/step - loss: 0.1355 - val_loss: 0.1537\b\b\b\b\b\b\b\b\b\b\b\b\b\b\b\b\b\b\b\b\b\b\b\b\b\b\b\b\b\b\b\b\b\b\b\b\b\b\b\b\nEpoch 7/100\n52/52 [==============================] - 0s 5ms/step - loss: 0.1361 - val_loss: 0.1529\b\b\b\b\b\b\b\b\b\b\b\b\b\b\b\b\b\b\b\b\b\b\b\b\b\b\b\b\b\b\b\b\b\b\b\b\b\b\b\b\nEpoch 8/100\n52/52 [==============================] - 0s 5ms/step - loss: 0.1352 - val_loss: 0.1519\b\b\b\b\b\b\b\b\b\b\b\b\b\b\b\b\b\b\b\b\b\b\b\b\b\b\b\b\b\b\b\b\b\b\b\b\b\b\b\b\n1/1 [==============================] - 0s 267ms/step\b\b\b\b\b\b\b\b\b\b\b\b\b\b\b\b\b\b\b\b\b\b\b\b\b\b\b\b\b\b\b\b\b\b\b\b\b\b\b\b\nFound untraced functions such as _jit_compiled_convolution_op, _jit_compiled_convolution_op, _update_step_xla, gru_cell_32_layer_call_fn, gru_cell_32_layer_call_and_return_conditional_losses while saving (showing 5 of 5). These functions will not be directly callable after loading.\nINFO:tensorflow:Assets written to: /tmp/tmp2umd08rr/model/data/model/assets\nAssets written to: /tmp/tmp2umd08rr/model/data/model/assets\n"
     ]
    },
    {
     "output_type": "display_data",
     "data": {
      "application/vnd.mlflow.run-widget+json": {
       "data": {
        "metrics": {
         "loss": 0.14120905101299286,
         "restored_epoch": 2,
         "stopped_epoch": 7,
         "val_loss": 0.1513858437538147
        },
        "params": {
         "baseline": "None",
         "batch_size": "128",
         "class_weight": "None",
         "epochs": "100",
         "initial_epoch": "0",
         "max_queue_size": "10",
         "min_delta": "0",
         "monitor": "val_loss",
         "opt_amsgrad": "False",
         "opt_beta_1": "0.9",
         "opt_beta_2": "0.999",
         "opt_clipnorm": "None",
         "opt_clipvalue": "None",
         "opt_ema_momentum": "0.99",
         "opt_ema_overwrite_frequency": "None",
         "opt_epsilon": "1e-07",
         "opt_global_clipnorm": "None",
         "opt_is_legacy_optimizer": "False",
         "opt_jit_compile": "False",
         "opt_learning_rate": "0.001",
         "opt_name": "Adam",
         "opt_use_ema": "False",
         "opt_weight_decay": "None",
         "patience": "5",
         "restore_best_weights": "True",
         "sample_weight": "None",
         "shuffle": "True",
         "steps_per_epoch": "None",
         "use_multiprocessing": "False",
         "validation_batch_size": "None",
         "validation_freq": "1",
         "validation_split": "0.0",
         "validation_steps": "None",
         "workers": "1"
        },
        "tags": {
         "mlflow.autologging": "tensorflow",
         "mlflow.rootRunId": "2cbd6a98-7bde-4b78-b8e3-e346f5e98a86",
         "mlflow.runName": "placid_napa_2tcmj3cr",
         "mlflow.user": "9b1bccca-b0b3-4fcf-9df5-fdeabefe9450",
         "synapseml.experiment.artifactId": "578c1031-2e79-44a8-ac2a-0f203892a83f",
         "synapseml.experimentName": "Notebook-4",
         "synapseml.livy.id": "f5af308f-1c3d-48b7-b37e-6b100cb697b1",
         "synapseml.notebook.artifactId": "28ef94a2-a27e-47ff-9b13-047b5ba72745",
         "synapseml.user.id": "f3b721d6-0d9a-4330-b94f-9316fd0dd9b0",
         "synapseml.user.name": "Ines Alexandra Artero Philipsen"
        }
       },
       "info": {
        "artifact_uri": "sds://onelakenortheurope.pbidedicated.windows.net/21f5720d-4372-435c-a5bb-385b7e99345d/578c1031-2e79-44a8-ac2a-0f203892a83f/2cbd6a98-7bde-4b78-b8e3-e346f5e98a86/artifacts",
        "end_time": 1710879574,
        "experiment_id": "9fc0b505-14d4-498d-9389-4c832ac2a437",
        "lifecycle_stage": "active",
        "run_id": "2cbd6a98-7bde-4b78-b8e3-e346f5e98a86",
        "run_name": "",
        "run_uuid": "2cbd6a98-7bde-4b78-b8e3-e346f5e98a86",
        "start_time": 1710879557,
        "status": "FINISHED",
        "user_id": "47b4be73-4385-4eda-a752-da9a9fee5a71"
       },
       "inputs": {
        "dataset_inputs": []
       }
      }
     },
     "metadata": {},
     "output_type": "display_data"
    }
   ],
   "source": [
    "# Initialize the model\n",
    "synth_model = CNN_GRU_regression(timesteps, feature_n, units)\n",
    "\n",
    "# Train the model\n",
    "synth_history = synth_model.fit(\n",
    "    X_synth_train, y_synth_train,\n",
    "    validation_data=(X_real_validation, y_real_validation),\n",
    "    epochs=100,  # Adjust the number of epochs as needed\n",
    "    batch_size=128,  # Adjust the batch size as needed\n",
    "    callbacks=[early_stopping]\n",
    ")\n"
   ]
  },
  {
   "cell_type": "code",
   "execution_count": 0,
   "metadata": {
    "application/vnd.databricks.v1+cell": {
     "cellMetadata": {},
     "inputWidgets": {},
     "nuid": "c8060a45-3dca-4b6d-8a68-0631d00795fb",
     "showTitle": false,
     "title": ""
    },
    "nteract": {
     "transient": {
      "deleting": false
     }
    }
   },
   "outputs": [
    {
     "output_type": "display_data",
     "data": {
      "application/vnd.livy.statement-meta+json": {
       "execution_finish_time": "2024-03-19T20:19:38.8888042Z",
       "execution_start_time": "2024-03-19T20:19:38.090226Z",
       "livy_statement_state": "available",
       "parent_msg_id": "d06bd27b-6efc-4d0b-aaa0-823fedeb4141",
       "queued_time": "2024-03-19T19:30:00.4005604Z",
       "session_id": "f5af308f-1c3d-48b7-b37e-6b100cb697b1",
       "session_start_time": null,
       "spark_pool": null,
       "state": "finished",
       "statement_id": 86
      },
      "text/plain": [
       "StatementMeta(, f5af308f-1c3d-48b7-b37e-6b100cb697b1, 86, Finished, Available)"
      ]
     },
     "metadata": {},
     "output_type": "display_data"
    },
    {
     "output_type": "stream",
     "name": "stdout",
     "output_type": "stream",
     "text": [
      "for real\n28/28 [==============================] - 0s 1ms/step\b\b\b\b\b\b\b\b\b\b\b\b\b\b\b\b\b\b\b\b\b\b\b\b\b\b\b\b\b\b\b\b\b\b\b\b\b\b\b\b\b\b\b\b\nfor synth\n28/28 [==============================] - 0s 1ms/step\b\b\b\b\b\b\b\b\b\b\b\b\b\b\b\b\b\b\b\b\b\b\b\b\b\b\b\b\b\b\b\b\b\b\b\b\b\b\b\b\b\b\b\b\n"
     ]
    }
   ],
   "source": [
    "# Generate predictions for CNN_GRU_regression\n",
    "print('for real')\n",
    "real_pred = real_model.predict(X_real_test)\n",
    "print('for synth')\n",
    "synthetic_pred = synth_model.predict(X_real_test)"
   ]
  },
  {
   "cell_type": "code",
   "execution_count": 0,
   "metadata": {
    "application/vnd.databricks.v1+cell": {
     "cellMetadata": {},
     "inputWidgets": {},
     "nuid": "872c9262-bdd0-4a32-8f78-d9a0ce25dcd0",
     "showTitle": false,
     "title": ""
    },
    "nteract": {
     "transient": {
      "deleting": false
     }
    }
   },
   "outputs": [
    {
     "output_type": "display_data",
     "data": {
      "application/vnd.livy.statement-meta+json": {
       "execution_finish_time": "2024-03-19T20:19:44.67656Z",
       "execution_start_time": "2024-03-19T20:19:44.6764347Z",
       "livy_statement_state": "available",
       "parent_msg_id": "c0079c77-4ef1-4985-9fe9-6be30130d74b",
       "queued_time": "2024-03-19T19:30:00.5001681Z",
       "session_id": null,
       "session_start_time": null,
       "spark_pool": null,
       "state": "finished",
       "statement_id": -1
      },
      "text/plain": [
       "StatementMeta(, , -1, Finished, Available)"
      ]
     },
     "metadata": {},
     "output_type": "display_data"
    }
   ],
   "source": [
    "%run Visualizations_func"
   ]
  },
  {
   "cell_type": "code",
   "execution_count": 0,
   "metadata": {
    "application/vnd.databricks.v1+cell": {
     "cellMetadata": {},
     "inputWidgets": {},
     "nuid": "6b6e817f-b7df-41c6-8840-ba3e5880d8f6",
     "showTitle": false,
     "title": ""
    },
    "nteract": {
     "transient": {
      "deleting": false
     }
    }
   },
   "outputs": [
    {
     "output_type": "display_data",
     "data": {
      "application/vnd.livy.statement-meta+json": {
       "execution_finish_time": "2024-03-19T20:19:45.3328382Z",
       "execution_start_time": "2024-03-19T20:19:45.102478Z",
       "livy_statement_state": "available",
       "parent_msg_id": "8db92377-abe7-484a-992e-1896501b7f0f",
       "queued_time": "2024-03-19T19:30:00.6215825Z",
       "session_id": "f5af308f-1c3d-48b7-b37e-6b100cb697b1",
       "session_start_time": null,
       "spark_pool": null,
       "state": "finished",
       "statement_id": 96
      },
      "text/plain": [
       "StatementMeta(, f5af308f-1c3d-48b7-b37e-6b100cb697b1, 96, Finished, Available)"
      ]
     },
     "metadata": {},
     "output_type": "display_data"
    },
    {
     "output_type": "stream",
     "name": "stdout",
     "output_type": "stream",
     "text": [
      "compared with synthetic\n     Feature  R2 Score Real  R2 Score Synth  MAE Real  MAE Synth\n0  Feature_0       0.555274       -0.009890  0.059949   0.101780\n1  Feature_1       0.935634       -0.642182  0.040584   0.211118\n"
     ]
    }
   ],
   "source": [
    "print('compared with synthetic')\n",
    "print(calculate_metrics_2(y_real_test, real_pred, synthetic_pred))"
   ]
  },
  {
   "cell_type": "code",
   "execution_count": 0,
   "metadata": {
    "application/vnd.databricks.v1+cell": {
     "cellMetadata": {},
     "inputWidgets": {},
     "nuid": "6eb71cbf-7561-4ed4-9742-6accf8cc16df",
     "showTitle": false,
     "title": ""
    },
    "nteract": {
     "transient": {
      "deleting": false
     }
    }
   },
   "outputs": [
    {
     "output_type": "display_data",
     "data": {
      "application/vnd.livy.statement-meta+json": {
       "execution_finish_time": "2024-03-19T20:19:52.0211781Z",
       "execution_start_time": "2024-03-19T20:19:45.8157865Z",
       "livy_statement_state": "available",
       "parent_msg_id": "f6ee40a5-f4af-49fb-a513-6b9995fe8f14",
       "queued_time": "2024-03-19T19:30:00.7251788Z",
       "session_id": "f5af308f-1c3d-48b7-b37e-6b100cb697b1",
       "session_start_time": null,
       "spark_pool": null,
       "state": "finished",
       "statement_id": 97
      },
      "text/plain": [
       "StatementMeta(, f5af308f-1c3d-48b7-b37e-6b100cb697b1, 97, Finished, Available)"
      ]
     },
     "metadata": {},
     "output_type": "display_data"
    },
    {
     "output_type": "stream",
     "name": "stdout",
     "output_type": "stream",
     "text": [
      "MMD: 0.04983536586193418\n"
     ]
    }
   ],
   "source": [
    "from sklearn.metrics import pairwise_distances\n",
    "def calculate_mmd(X, Y, gamma=None):\n",
    "    \"\"\"\n",
    "    Calculate the Maximum Mean Discrepancy (MMD) between two samples, X and Y.\n",
    "    The kernel can be computed using a Gaussian kernel with bandwidth gamma.\n",
    "    If gamma is None, it uses the median heuristic.\n",
    "    \"\"\"\n",
    "    n = X.shape[0]\n",
    "    m = Y.shape[0]\n",
    "    \n",
    "    # Compute the pairwise distances in the Gaussian kernel\n",
    "    XX = pairwise_distances(X.reshape(n, -1), metric='euclidean')\n",
    "    YY = pairwise_distances(Y.reshape(m, -1), metric='euclidean')\n",
    "    XY = pairwise_distances(X.reshape(n, -1), Y.reshape(m, -1), metric='euclidean')\n",
    "    \n",
    "    if gamma is None:\n",
    "        # Median heuristic for the bandwidth\n",
    "        gamma = np.median(np.hstack((XX.flatten(), YY.flatten(), XY.flatten())))\n",
    "    \n",
    "    # Compute the kernel matrices\n",
    "    K_XX = np.exp(-gamma * XX)\n",
    "    K_YY = np.exp(-gamma * YY)\n",
    "    K_XY = np.exp(-gamma * XY)\n",
    "    \n",
    "    # Compute the MMD\n",
    "    mmd = K_XX.mean() + K_YY.mean() - 2 * K_XY.mean()\n",
    "    return mmd\n",
    "\n",
    "# Compute MMD between the real and synthetic datasets\n",
    "mmd_value = calculate_mmd(processed_data, syntheitc_data)\n",
    "print(f\"MMD: {mmd_value}\")"
   ]
  },
  {
   "cell_type": "code",
   "execution_count": 0,
   "metadata": {
    "application/vnd.databricks.v1+cell": {
     "cellMetadata": {},
     "inputWidgets": {},
     "nuid": "e49828db-8afa-4378-b49e-965b5d442668",
     "showTitle": false,
     "title": ""
    },
    "nteract": {
     "transient": {
      "deleting": false
     }
    }
   },
   "outputs": [
    {
     "output_type": "display_data",
     "data": {
      "application/vnd.livy.statement-meta+json": {
       "execution_finish_time": "2024-03-19T20:19:52.7705291Z",
       "execution_start_time": "2024-03-19T20:19:52.5284128Z",
       "livy_statement_state": "available",
       "parent_msg_id": "61013fa5-aa15-41cf-8eb7-c4ccf9719162",
       "queued_time": "2024-03-19T19:30:00.8212763Z",
       "session_id": "f5af308f-1c3d-48b7-b37e-6b100cb697b1",
       "session_start_time": null,
       "spark_pool": null,
       "state": "finished",
       "statement_id": 98
      },
      "text/plain": [
       "StatementMeta(, f5af308f-1c3d-48b7-b37e-6b100cb697b1, 98, Finished, Available)"
      ]
     },
     "metadata": {},
     "output_type": "display_data"
    },
    {
     "output_type": "stream",
     "name": "stdout",
     "output_type": "stream",
     "text": [
      "The pearson correlation for synthetic data [-0.0016056769741046215, 0.0009930196355194447]\n"
     ]
    }
   ],
   "source": [
    "# Calculate Pearson correlations\n",
    "pearson_corrs_synthetic = calculate_pearson_correlations(\n",
    "    processed_data, syntheitc_data\n",
    ")\n",
    "\n",
    "print(f'The pearson correlation for synthetic data {pearson_corrs_synthetic}')"
   ]
  },
  {
   "cell_type": "code",
   "execution_count": 0,
   "metadata": {
    "application/vnd.databricks.v1+cell": {
     "cellMetadata": {},
     "inputWidgets": {},
     "nuid": "c6f5ce6c-b963-415b-881f-09bcd98b084d",
     "showTitle": false,
     "title": ""
    },
    "nteract": {
     "transient": {
      "deleting": false
     }
    }
   },
   "outputs": [
    {
     "output_type": "display_data",
     "data": {
      "application/vnd.livy.statement-meta+json": {
       "execution_finish_time": "2024-03-19T20:19:54.0973946Z",
       "execution_start_time": "2024-03-19T20:19:53.2724425Z",
       "livy_statement_state": "available",
       "parent_msg_id": "5685a8bf-ee3e-4c76-835a-a5d956b5bf57",
       "queued_time": "2024-03-19T19:30:00.9346573Z",
       "session_id": "f5af308f-1c3d-48b7-b37e-6b100cb697b1",
       "session_start_time": null,
       "spark_pool": null,
       "state": "finished",
       "statement_id": 99
      },
      "text/plain": [
       "StatementMeta(, f5af308f-1c3d-48b7-b37e-6b100cb697b1, 99, Finished, Available)"
      ]
     },
     "metadata": {},
     "output_type": "display_data"
    },
    {
     "output_type": "stream",
     "name": "stdout",
     "output_type": "stream",
     "text": [
      "Attribute 0: KS statistic: 0.057928922971271606, P-value: 2.882655594196529e-306, TVD: 5.880640972897213\nAttribute 1: KS statistic: 0.10455057037121818, P-value: 0.0, TVD: 6.8804558189807805\n"
     ]
    }
   ],
   "source": [
    "from scipy.stats import ks_2samp\n",
    "from scipy.spatial.distance import cityblock\n",
    "\n",
    "def calculate_ks_test(sample1, sample2):\n",
    "    # Perform the KS test\n",
    "    ks_statistic, p_value = ks_2samp(sample1, sample2)\n",
    "    return ks_statistic, p_value\n",
    "\n",
    "def calculate_tvd(p, q):\n",
    "    # The TVD is half the L1-norm (Manhattan distance) between two probability distributions\n",
    "    tvd = cityblock(p, q) / 2.0\n",
    "    return tvd\n",
    "\n",
    "# Assuming your datasets are named 'processed_data' and 'synthetic_data'\n",
    "# with shape (8737, 24, 2)\n",
    "# Let's loop over each attribute\n",
    "\n",
    "num_attributes = processed_data.shape[2]  # In your case, 2\n",
    "\n",
    "# Store the results\n",
    "ks_results = []\n",
    "tvd_results = []\n",
    "\n",
    "for attribute_index in range(num_attributes):\n",
    "    # Extracting the attribute across all sequences for both datasets\n",
    "    real_attribute_data = processed_data[:, :, attribute_index].flatten()\n",
    "    synthetic_attribute_data = syntheitc_data[:, :, attribute_index].flatten()\n",
    "    \n",
    "    # KS Test for the current attribute\n",
    "    ks_statistic, p_value = calculate_ks_test(real_attribute_data, synthetic_attribute_data)\n",
    "    ks_results.append((ks_statistic, p_value))\n",
    "    \n",
    "    # TVD for the current attribute\n",
    "    # Get the histograms as probability distributions for each attribute\n",
    "    p = np.histogram(real_attribute_data, bins=50, range=(0, 1), density=True)[0]\n",
    "    q = np.histogram(synthetic_attribute_data, bins=50, range=(0, 1), density=True)[0]\n",
    "    \n",
    "    tvd = calculate_tvd(p, q)\n",
    "    tvd_results.append(tvd)\n",
    "\n",
    "# Now, ks_results and tvd_results hold the KS statistics/p-values and TVDs for each attribute\n",
    "for i, (ks, tvd) in enumerate(zip(ks_results, tvd_results)):\n",
    "    print(f\"Attribute {i}: KS statistic: {ks[0]}, P-value: {ks[1]}, TVD: {tvd}\")\n"
   ]
  }
 ],
 "metadata": {
  "application/vnd.databricks.v1+notebook": {
   "dashboards": [],
   "environmentMetadata": null,
   "language": "python",
   "notebookMetadata": {},
   "notebookName": "timegan_og",
   "widgets": {}
  },
  "kernel_info": {
   "name": "synapse_pyspark"
  },
  "kernelspec": {
   "display_name": "Synapse PySpark",
   "language": "Python",
   "name": "synapse_pyspark"
  },
  "language_info": {
   "name": "python"
  },
  "microsoft": {
   "language": "python"
  },
  "nteract": {
   "version": "nteract-front-end@1.0.0"
  },
  "spark_compute": {
   "compute_id": "/trident/default"
  },
  "trident": {
   "lakehouse": {
    "default_lakehouse": "f05b55ec-f2ec-4c01-a20f-8040f7ce6e09",
    "default_lakehouse_name": "Ines",
    "default_lakehouse_workspace_id": "21f5720d-4372-435c-a5bb-385b7e99345d",
    "known_lakehouses": [
     {
      "id": "f05b55ec-f2ec-4c01-a20f-8040f7ce6e09"
     }
    ]
   }
  },
  "widgets": {}
 },
 "nbformat": 4,
 "nbformat_minor": 0
}
