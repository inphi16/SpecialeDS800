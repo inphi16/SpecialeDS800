{
 "cells": [
  {
   "cell_type": "code",
   "execution_count": 0,
   "metadata": {
    "application/vnd.databricks.v1+cell": {
     "cellMetadata": {
      "byteLimit": 2048000,
      "rowLimit": 10000
     },
     "inputWidgets": {},
     "nuid": "e2b8652d-1fe4-48cb-8d3b-7a27431b199e",
     "showTitle": false,
     "title": ""
    }
   },
   "outputs": [
    {
     "output_type": "stream",
     "name": "stdout",
     "output_type": "stream",
     "text": [
      "File does not exist, skipping: /databricks/driver/../../Workspace/Users/iaaph@energinet.dk//results/results_model3_0.csv\nFile does not exist, skipping: /databricks/driver/../../Workspace/Users/iaaph@energinet.dk//results/results_model3_1.csv\nUpdated file with averages: /databricks/driver/../../Workspace/Users/iaaph@energinet.dk//results/results_model3_2.csv\nUpdated file with averages: /databricks/driver/../../Workspace/Users/iaaph@energinet.dk//results/results_model3_3.csv\nFile does not exist, skipping: /databricks/driver/../../Workspace/Users/iaaph@energinet.dk//results/results_model3_4.csv\n"
     ]
    }
   ],
   "source": [
    "import pandas as pd\n",
    "import os\n",
    "import sys\n",
    "\n",
    "# Define the path one level up\n",
    "parent_directory = os.path.join(os.getcwd(), '../../Workspace/Users/iaaph@energinet.dk/')\n",
    "# Add this path to the sys.path list\n",
    "sys.path.append(f\"{parent_directory}\")\n",
    "\n",
    "model_no = 3\n",
    "\n",
    "def compute_average_scores_and_append():\n",
    "    for n in range(5):\n",
    "        file_path = f'{parent_directory}/results/results_model{model_no}_{n}.csv'\n",
    "        \n",
    "        # Skip processing if the file does not exist\n",
    "        if not os.path.exists(file_path):\n",
    "            print(f\"File does not exist, skipping: {file_path}\")\n",
    "            continue\n",
    "        \n",
    "        try:\n",
    "            # Read the CSV file\n",
    "            existing_df = pd.read_csv(file_path)\n",
    "            \n",
    "            # Calculate the average for the relevant columns\n",
    "            averages = existing_df.mean(axis=0)\n",
    "            \n",
    "            # Prepare the average row with 'index' set to 'avg'\n",
    "            avg_row = {\n",
    "                'index': 'avg',\n",
    "                'Discriminate Score 1': averages['Discriminate Score 1'],\n",
    "                'R2 Score Real 1': averages['R2 Score Real 1'],\n",
    "                'R2 Score Synthetic 1': averages['R2 Score Synthetic 1'],\n",
    "                'MAE Real 1': averages['MAE Real 1'],\n",
    "                'MAE Synthetic 1': averages['MAE Synthetic 1'],\n",
    "            }\n",
    "            \n",
    "            # Append the average row to the DataFrame\n",
    "            updated_df = pd.concat([existing_df, pd.DataFrame([avg_row])], ignore_index=True)\n",
    "            \n",
    "            # Write the DataFrame back to the CSV, overwriting the original\n",
    "            updated_df.to_csv(file_path, index=False)\n",
    "            print(f'Updated file with averages: {file_path}')\n",
    "        except Exception as e:\n",
    "            print(f'Failed to process file {file_path}: {e}')\n",
    "\n",
    "# Example of how to use the function\n",
    "compute_average_scores_and_append()"
   ]
  }
 ],
 "metadata": {
  "application/vnd.databricks.v1+notebook": {
   "dashboards": [],
   "environmentMetadata": null,
   "language": "python",
   "notebookMetadata": {
    "pythonIndentUnit": 4
   },
   "notebookName": "add_mean",
   "widgets": {}
  }
 },
 "nbformat": 4,
 "nbformat_minor": 0
}
